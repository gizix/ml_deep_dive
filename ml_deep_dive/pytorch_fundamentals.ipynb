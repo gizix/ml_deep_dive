{
 "cells": [
  {
   "cell_type": "code",
   "outputs": [
    {
     "name": "stdout",
     "output_type": "stream",
     "text": [
      "2.1.2+cu121\n"
     ]
    }
   ],
   "source": [
    "import torch\n",
    "import pandas as pd\n",
    "import numpy as np\n",
    "import matplotlib.pyplot as plt\n",
    "\n",
    "print(torch.__version__)"
   ],
   "metadata": {
    "collapsed": false,
    "ExecuteTime": {
     "end_time": "2023-12-23T02:34:19.263538200Z",
     "start_time": "2023-12-23T02:34:18.021524100Z"
    }
   },
   "id": "ed45fab2b5f16f56",
   "execution_count": 142
  },
  {
   "cell_type": "markdown",
   "source": [
    "## Intro to Tensors\n",
    "\n",
    "### Creating Tensors\n",
    "\n",
    "PyTorch Tensors are created using 'torch.tensor()'"
   ],
   "metadata": {
    "collapsed": false
   },
   "id": "17eea15e6b3140d5"
  },
  {
   "cell_type": "code",
   "outputs": [
    {
     "data": {
      "text/plain": "tensor(7)"
     },
     "execution_count": 143,
     "metadata": {},
     "output_type": "execute_result"
    }
   ],
   "source": [
    "#scalar\n",
    "\n",
    "scalar = torch.tensor(7)\n",
    "scalar"
   ],
   "metadata": {
    "collapsed": false,
    "ExecuteTime": {
     "end_time": "2023-12-23T02:34:19.314539300Z",
     "start_time": "2023-12-23T02:34:19.260538100Z"
    }
   },
   "id": "7e9aeb5ec4c24688",
   "execution_count": 143
  },
  {
   "cell_type": "code",
   "outputs": [
    {
     "data": {
      "text/plain": "0"
     },
     "execution_count": 144,
     "metadata": {},
     "output_type": "execute_result"
    }
   ],
   "source": [
    "scalar.ndim"
   ],
   "metadata": {
    "collapsed": false,
    "ExecuteTime": {
     "end_time": "2023-12-23T02:34:19.413538200Z",
     "start_time": "2023-12-23T02:34:19.297540100Z"
    }
   },
   "id": "570d1a020897e1a5",
   "execution_count": 144
  },
  {
   "cell_type": "code",
   "outputs": [
    {
     "data": {
      "text/plain": "7"
     },
     "execution_count": 145,
     "metadata": {},
     "output_type": "execute_result"
    }
   ],
   "source": [
    "# Get tensor back as Python int\n",
    "scalar.item()"
   ],
   "metadata": {
    "collapsed": false,
    "ExecuteTime": {
     "end_time": "2023-12-23T02:34:19.445537800Z",
     "start_time": "2023-12-23T02:34:19.399543Z"
    }
   },
   "id": "4ad54311347247f5",
   "execution_count": 145
  },
  {
   "cell_type": "code",
   "outputs": [
    {
     "data": {
      "text/plain": "tensor([7, 7])"
     },
     "execution_count": 146,
     "metadata": {},
     "output_type": "execute_result"
    }
   ],
   "source": [
    "# Vector\n",
    "vector = torch.tensor([7, 7])\n",
    "vector"
   ],
   "metadata": {
    "collapsed": false,
    "ExecuteTime": {
     "end_time": "2023-12-23T02:34:19.566537600Z",
     "start_time": "2023-12-23T02:34:19.445537800Z"
    }
   },
   "id": "988e7fdede82f582",
   "execution_count": 146
  },
  {
   "cell_type": "code",
   "outputs": [
    {
     "data": {
      "text/plain": "1"
     },
     "execution_count": 147,
     "metadata": {},
     "output_type": "execute_result"
    }
   ],
   "source": [
    "vector.ndim"
   ],
   "metadata": {
    "collapsed": false,
    "ExecuteTime": {
     "end_time": "2023-12-23T02:34:19.587537100Z",
     "start_time": "2023-12-23T02:34:19.532538300Z"
    }
   },
   "id": "326ed8e2610bb22a",
   "execution_count": 147
  },
  {
   "cell_type": "code",
   "outputs": [
    {
     "data": {
      "text/plain": "torch.Size([2])"
     },
     "execution_count": 148,
     "metadata": {},
     "output_type": "execute_result"
    }
   ],
   "source": [
    "vector.shape"
   ],
   "metadata": {
    "collapsed": false,
    "ExecuteTime": {
     "end_time": "2023-12-23T02:34:19.700537600Z",
     "start_time": "2023-12-23T02:34:19.586537600Z"
    }
   },
   "id": "e435fecf3e688c9d",
   "execution_count": 148
  },
  {
   "cell_type": "code",
   "outputs": [
    {
     "data": {
      "text/plain": "tensor([[1, 2],\n        [3, 4]])"
     },
     "execution_count": 149,
     "metadata": {},
     "output_type": "execute_result"
    }
   ],
   "source": [
    "# Matrix\n",
    "MATRIX = torch.tensor([[1, 2], [3, 4]])\n",
    "MATRIX"
   ],
   "metadata": {
    "collapsed": false,
    "ExecuteTime": {
     "end_time": "2023-12-23T02:34:19.746537400Z",
     "start_time": "2023-12-23T02:34:19.686538Z"
    }
   },
   "id": "41c7b12864779a7c",
   "execution_count": 149
  },
  {
   "cell_type": "code",
   "outputs": [
    {
     "data": {
      "text/plain": "2"
     },
     "execution_count": 150,
     "metadata": {},
     "output_type": "execute_result"
    }
   ],
   "source": [
    "MATRIX.ndim"
   ],
   "metadata": {
    "collapsed": false,
    "ExecuteTime": {
     "end_time": "2023-12-23T02:34:19.849536500Z",
     "start_time": "2023-12-23T02:34:19.724543200Z"
    }
   },
   "id": "8c8cfbb85972d647",
   "execution_count": 150
  },
  {
   "cell_type": "code",
   "outputs": [
    {
     "data": {
      "text/plain": "tensor([3, 4])"
     },
     "execution_count": 151,
     "metadata": {},
     "output_type": "execute_result"
    }
   ],
   "source": [
    "MATRIX[1]"
   ],
   "metadata": {
    "collapsed": false,
    "ExecuteTime": {
     "end_time": "2023-12-23T02:34:19.877537600Z",
     "start_time": "2023-12-23T02:34:19.827536300Z"
    }
   },
   "id": "445edce5d42c5288",
   "execution_count": 151
  },
  {
   "cell_type": "code",
   "outputs": [
    {
     "data": {
      "text/plain": "torch.Size([2, 2])"
     },
     "execution_count": 152,
     "metadata": {},
     "output_type": "execute_result"
    }
   ],
   "source": [
    "MATRIX.shape"
   ],
   "metadata": {
    "collapsed": false,
    "ExecuteTime": {
     "end_time": "2023-12-23T02:34:19.990538300Z",
     "start_time": "2023-12-23T02:34:19.875537500Z"
    }
   },
   "id": "e11146ef9b31d16c",
   "execution_count": 152
  },
  {
   "cell_type": "code",
   "outputs": [
    {
     "data": {
      "text/plain": "tensor([[[1, 2, 3],\n         [2, 3, 4],\n         [5, 6, 7]]])"
     },
     "execution_count": 153,
     "metadata": {},
     "output_type": "execute_result"
    }
   ],
   "source": [
    "# Tensor\n",
    "TENSOR = torch.tensor([[[1, 2, 3], [2, 3, 4], [5, 6, 7]]])\n",
    "TENSOR"
   ],
   "metadata": {
    "collapsed": false,
    "ExecuteTime": {
     "end_time": "2023-12-23T02:34:20.015538Z",
     "start_time": "2023-12-23T02:34:19.973538800Z"
    }
   },
   "id": "17b97ae759675d35",
   "execution_count": 153
  },
  {
   "cell_type": "code",
   "outputs": [
    {
     "data": {
      "text/plain": "3"
     },
     "execution_count": 154,
     "metadata": {},
     "output_type": "execute_result"
    }
   ],
   "source": [
    "TENSOR.ndim"
   ],
   "metadata": {
    "collapsed": false,
    "ExecuteTime": {
     "end_time": "2023-12-23T02:34:20.113537600Z",
     "start_time": "2023-12-23T02:34:20.005541200Z"
    }
   },
   "id": "a9cd7572ccf37404",
   "execution_count": 154
  },
  {
   "cell_type": "code",
   "outputs": [
    {
     "data": {
      "text/plain": "torch.Size([1, 3, 3])"
     },
     "execution_count": 155,
     "metadata": {},
     "output_type": "execute_result"
    }
   ],
   "source": [
    "TENSOR.shape"
   ],
   "metadata": {
    "collapsed": false,
    "ExecuteTime": {
     "end_time": "2023-12-23T02:34:20.145542Z",
     "start_time": "2023-12-23T02:34:20.099537700Z"
    }
   },
   "id": "a783b2476dae9734",
   "execution_count": 155
  },
  {
   "cell_type": "code",
   "outputs": [
    {
     "data": {
      "text/plain": "tensor([[1, 2, 3],\n        [2, 3, 4],\n        [5, 6, 7]])"
     },
     "execution_count": 156,
     "metadata": {},
     "output_type": "execute_result"
    }
   ],
   "source": [
    "TENSOR[0]"
   ],
   "metadata": {
    "collapsed": false,
    "ExecuteTime": {
     "end_time": "2023-12-23T02:34:20.279538900Z",
     "start_time": "2023-12-23T02:34:20.147545100Z"
    }
   },
   "id": "75d2f071ed40645f",
   "execution_count": 156
  },
  {
   "cell_type": "markdown",
   "source": [
    "### Random Tensors\n",
    "\n",
    "Random tensors are important because the way many neural networks learn is that they start with tensors full of random numbers and then adjust those random numbers to better represent the data.\n",
    "\n",
    "Start with random numbers -> look at data -> update random numbers -> look at data -> update random numbers"
   ],
   "metadata": {
    "collapsed": false
   },
   "id": "c0aea40cbd9d0d02"
  },
  {
   "cell_type": "code",
   "outputs": [
    {
     "data": {
      "text/plain": "tensor([[0.8964, 0.4556, 0.6323, 0.3489],\n        [0.4017, 0.0223, 0.1689, 0.2939],\n        [0.5185, 0.6977, 0.8000, 0.1610]])"
     },
     "execution_count": 157,
     "metadata": {},
     "output_type": "execute_result"
    }
   ],
   "source": [
    "# Create a random tensor of size (3, 4)\n",
    "random_tensor = torch.rand(3, 4)\n",
    "random_tensor"
   ],
   "metadata": {
    "collapsed": false,
    "ExecuteTime": {
     "end_time": "2023-12-23T02:34:20.357537Z",
     "start_time": "2023-12-23T02:34:20.234538100Z"
    }
   },
   "id": "64105faef08a3afa",
   "execution_count": 157
  },
  {
   "cell_type": "code",
   "outputs": [
    {
     "data": {
      "text/plain": "2"
     },
     "execution_count": 158,
     "metadata": {},
     "output_type": "execute_result"
    }
   ],
   "source": [
    "random_tensor.ndim"
   ],
   "metadata": {
    "collapsed": false,
    "ExecuteTime": {
     "end_time": "2023-12-23T02:34:20.429546Z",
     "start_time": "2023-12-23T02:34:20.305539300Z"
    }
   },
   "id": "fd225bbcf988c0f4",
   "execution_count": 158
  },
  {
   "cell_type": "code",
   "outputs": [
    {
     "data": {
      "text/plain": "torch.Size([3, 4])"
     },
     "execution_count": 159,
     "metadata": {},
     "output_type": "execute_result"
    }
   ],
   "source": [
    "random_tensor.shape"
   ],
   "metadata": {
    "collapsed": false,
    "ExecuteTime": {
     "end_time": "2023-12-23T02:34:20.501538500Z",
     "start_time": "2023-12-23T02:34:20.408536200Z"
    }
   },
   "id": "9faa5f3e3af7ed55",
   "execution_count": 159
  },
  {
   "cell_type": "code",
   "outputs": [
    {
     "data": {
      "text/plain": "(torch.Size([3, 224, 224]), 3)"
     },
     "execution_count": 160,
     "metadata": {},
     "output_type": "execute_result"
    }
   ],
   "source": [
    "# Create a random tensor with similar shape to an image tensor\n",
    "random_image_size_tensor = torch.rand(size=(3, 224, 224)) # height, width, color channels (R, G, B)\n",
    "random_image_size_tensor.shape, random_image_size_tensor.ndim"
   ],
   "metadata": {
    "collapsed": false,
    "ExecuteTime": {
     "end_time": "2023-12-23T02:34:20.638538300Z",
     "start_time": "2023-12-23T02:34:20.501538500Z"
    }
   },
   "id": "81a2787d1c8c5302",
   "execution_count": 160
  },
  {
   "cell_type": "markdown",
   "source": [
    "### Zeroes and ones"
   ],
   "metadata": {
    "collapsed": false
   },
   "id": "cb2c0c6724e38e4a"
  },
  {
   "cell_type": "code",
   "outputs": [
    {
     "data": {
      "text/plain": "tensor([[0., 0., 0., 0.],\n        [0., 0., 0., 0.],\n        [0., 0., 0., 0.]])"
     },
     "execution_count": 161,
     "metadata": {},
     "output_type": "execute_result"
    }
   ],
   "source": [
    "# Create a tensor of all zeroes\n",
    "zeros = torch.zeros(size=(3, 4))\n",
    "zeros"
   ],
   "metadata": {
    "collapsed": false,
    "ExecuteTime": {
     "end_time": "2023-12-23T02:34:20.657535800Z",
     "start_time": "2023-12-23T02:34:20.548536600Z"
    }
   },
   "id": "f4d30df42707a601",
   "execution_count": 161
  },
  {
   "cell_type": "code",
   "outputs": [
    {
     "data": {
      "text/plain": "tensor([[1., 1., 1., 1.],\n        [1., 1., 1., 1.],\n        [1., 1., 1., 1.]])"
     },
     "execution_count": 162,
     "metadata": {},
     "output_type": "execute_result"
    }
   ],
   "source": [
    "# Create a tensor of all ones\n",
    "ones = torch.ones(size=(3, 4))\n",
    "ones"
   ],
   "metadata": {
    "collapsed": false,
    "ExecuteTime": {
     "end_time": "2023-12-23T02:34:20.683538600Z",
     "start_time": "2023-12-23T02:34:20.623541900Z"
    }
   },
   "id": "d86c1947a8304944",
   "execution_count": 162
  },
  {
   "cell_type": "code",
   "outputs": [
    {
     "data": {
      "text/plain": "torch.float32"
     },
     "execution_count": 163,
     "metadata": {},
     "output_type": "execute_result"
    }
   ],
   "source": [
    "ones.dtype"
   ],
   "metadata": {
    "collapsed": false,
    "ExecuteTime": {
     "end_time": "2023-12-23T02:34:20.788539400Z",
     "start_time": "2023-12-23T02:34:20.677542800Z"
    }
   },
   "id": "7b5a336fcd02a50",
   "execution_count": 163
  },
  {
   "cell_type": "code",
   "outputs": [
    {
     "data": {
      "text/plain": "torch.float32"
     },
     "execution_count": 164,
     "metadata": {},
     "output_type": "execute_result"
    }
   ],
   "source": [
    "random_tensor.dtype"
   ],
   "metadata": {
    "collapsed": false,
    "ExecuteTime": {
     "end_time": "2023-12-23T02:34:20.854538700Z",
     "start_time": "2023-12-23T02:34:20.776541100Z"
    }
   },
   "id": "39dfa69b5eb63154",
   "execution_count": 164
  },
  {
   "cell_type": "markdown",
   "source": [
    "### Creating a Range of tensors and tensors-like"
   ],
   "metadata": {
    "collapsed": false
   },
   "id": "a2567bf99584d036"
  },
  {
   "cell_type": "code",
   "outputs": [
    {
     "data": {
      "text/plain": "tensor([ 1,  2,  3,  4,  5,  6,  7,  8,  9, 10])"
     },
     "execution_count": 165,
     "metadata": {},
     "output_type": "execute_result"
    }
   ],
   "source": [
    "# Use torch.arange()\n",
    "one_to_ten = torch.arange(start=1, end=11, step=1)\n",
    "one_to_ten"
   ],
   "metadata": {
    "collapsed": false,
    "ExecuteTime": {
     "end_time": "2023-12-23T02:34:20.950536600Z",
     "start_time": "2023-12-23T02:34:20.844548300Z"
    }
   },
   "id": "f9199257e76f3e5d",
   "execution_count": 165
  },
  {
   "cell_type": "code",
   "outputs": [
    {
     "data": {
      "text/plain": "tensor([0, 0, 0, 0, 0, 0, 0, 0, 0, 0])"
     },
     "execution_count": 166,
     "metadata": {},
     "output_type": "execute_result"
    }
   ],
   "source": [
    "# Creating tensors like\n",
    "ten_zeros = torch.zeros_like(input=one_to_ten)\n",
    "ten_zeros"
   ],
   "metadata": {
    "collapsed": false,
    "ExecuteTime": {
     "end_time": "2023-12-23T02:34:20.996538500Z",
     "start_time": "2023-12-23T02:34:20.933537300Z"
    }
   },
   "id": "bf6bcd4665404bf1",
   "execution_count": 166
  },
  {
   "cell_type": "markdown",
   "source": [
    "### Tensor datatypes\n",
    "\n",
    "**Note:** Tensor datatypes is on of the 3 big errors you'll run into with PyTorch & deep learning:\n",
    "1. Tensors not the right datatype\n",
    "2. Tensors not the right shape\n",
    "3. Tensors not on the right device"
   ],
   "metadata": {
    "collapsed": false
   },
   "id": "2b400fe495d1472"
  },
  {
   "cell_type": "code",
   "outputs": [
    {
     "data": {
      "text/plain": "tensor([3., 6., 9.])"
     },
     "execution_count": 167,
     "metadata": {},
     "output_type": "execute_result"
    }
   ],
   "source": [
    "# Float 32 tensor\n",
    "float_32_tensor = torch.tensor([3.0, 6.0, 9.0],\n",
    "                               dtype=None, # What datatype is the tensor (e.g. float32 or float16)\n",
    "                               device=None, # What device is your tensor on\n",
    "                               requires_grad=False) # Whether to track gradients with this tensor's operations\n",
    "float_32_tensor"
   ],
   "metadata": {
    "collapsed": false,
    "ExecuteTime": {
     "end_time": "2023-12-23T02:34:21.102536200Z",
     "start_time": "2023-12-23T02:34:20.990538800Z"
    }
   },
   "id": "489b5db5447f4ab4",
   "execution_count": 167
  },
  {
   "cell_type": "code",
   "outputs": [
    {
     "data": {
      "text/plain": "torch.float32"
     },
     "execution_count": 168,
     "metadata": {},
     "output_type": "execute_result"
    }
   ],
   "source": [
    "float_32_tensor.dtype"
   ],
   "metadata": {
    "collapsed": false,
    "ExecuteTime": {
     "end_time": "2023-12-23T02:34:21.134543Z",
     "start_time": "2023-12-23T02:34:21.083541Z"
    }
   },
   "id": "7917b04c7cad5333",
   "execution_count": 168
  },
  {
   "cell_type": "code",
   "outputs": [
    {
     "data": {
      "text/plain": "tensor([3., 6., 9.], dtype=torch.float16)"
     },
     "execution_count": 169,
     "metadata": {},
     "output_type": "execute_result"
    }
   ],
   "source": [
    "float_16_tensor = float_32_tensor.type(torch.float16)\n",
    "float_16_tensor"
   ],
   "metadata": {
    "collapsed": false,
    "ExecuteTime": {
     "end_time": "2023-12-23T02:34:21.236536300Z",
     "start_time": "2023-12-23T02:34:21.128542900Z"
    }
   },
   "id": "bc27c3359c846810",
   "execution_count": 169
  },
  {
   "cell_type": "code",
   "outputs": [
    {
     "data": {
      "text/plain": "tensor([ 9., 36., 81.])"
     },
     "execution_count": 170,
     "metadata": {},
     "output_type": "execute_result"
    }
   ],
   "source": [
    "float_16_tensor * float_32_tensor"
   ],
   "metadata": {
    "collapsed": false,
    "ExecuteTime": {
     "end_time": "2023-12-23T02:34:21.260544800Z",
     "start_time": "2023-12-23T02:34:21.209545300Z"
    }
   },
   "id": "25083b3402cb2d7e",
   "execution_count": 170
  },
  {
   "cell_type": "code",
   "outputs": [
    {
     "data": {
      "text/plain": "tensor([3, 6, 9], dtype=torch.int32)"
     },
     "execution_count": 171,
     "metadata": {},
     "output_type": "execute_result"
    }
   ],
   "source": [
    "int_32_tensor = torch.tensor([3, 6, 9], dtype=torch.int32)\n",
    "int_32_tensor"
   ],
   "metadata": {
    "collapsed": false,
    "ExecuteTime": {
     "end_time": "2023-12-23T02:34:21.385538Z",
     "start_time": "2023-12-23T02:34:21.259542200Z"
    }
   },
   "id": "e2f625716584cbf8",
   "execution_count": 171
  },
  {
   "cell_type": "code",
   "outputs": [
    {
     "data": {
      "text/plain": "tensor([ 9., 36., 81.], dtype=torch.float16)"
     },
     "execution_count": 172,
     "metadata": {},
     "output_type": "execute_result"
    }
   ],
   "source": [
    "float_16_tensor * int_32_tensor"
   ],
   "metadata": {
    "collapsed": false,
    "ExecuteTime": {
     "end_time": "2023-12-23T02:34:21.406541600Z",
     "start_time": "2023-12-23T02:34:21.339542200Z"
    }
   },
   "id": "c92e99195b210cbc",
   "execution_count": 172
  },
  {
   "cell_type": "markdown",
   "source": [
    "### Getting tensor attributes\n",
    "\n",
    "1. Tensors not the right datatype - to get datatype from a tensor, use 'tensor.dtype'\n",
    "2. Tensors not the right shape - to get shape from a tensor, use 'tensor.shap'\n",
    "3. Tensors not on the right device - to get device from a tensor, use 'tensor.device'"
   ],
   "metadata": {
    "collapsed": false
   },
   "id": "747b3db7ad7d38f7"
  },
  {
   "cell_type": "code",
   "outputs": [
    {
     "data": {
      "text/plain": "tensor([[0.7843, 0.6775, 0.7653, 0.8990],\n        [0.5795, 0.3956, 0.7390, 0.3317],\n        [0.5313, 0.1853, 0.5148, 0.1994]])"
     },
     "execution_count": 173,
     "metadata": {},
     "output_type": "execute_result"
    }
   ],
   "source": [
    "# Create a tensor\n",
    "some_tensor = torch.rand(3, 4)\n",
    "some_tensor"
   ],
   "metadata": {
    "collapsed": false,
    "ExecuteTime": {
     "end_time": "2023-12-23T02:34:21.527537600Z",
     "start_time": "2023-12-23T02:34:21.405538900Z"
    }
   },
   "id": "fa4beef215fcf6d6",
   "execution_count": 173
  },
  {
   "cell_type": "code",
   "outputs": [
    {
     "name": "stdout",
     "output_type": "stream",
     "text": [
      "tensor([[0.7843, 0.6775, 0.7653, 0.8990],\n",
      "        [0.5795, 0.3956, 0.7390, 0.3317],\n",
      "        [0.5313, 0.1853, 0.5148, 0.1994]])\n",
      "Datatype of tensor: torch.float32\n",
      "Shape of tensor: torch.Size([3, 4])\n",
      "Size of tensor: torch.Size([3, 4])\n",
      "Device tensor is on: cpu\n"
     ]
    }
   ],
   "source": [
    "# Find out details about some tensor\n",
    "print(some_tensor)\n",
    "print(f\"Datatype of tensor: {some_tensor.dtype}\")\n",
    "print(f\"Shape of tensor: {some_tensor.shape}\")\n",
    "print(f\"Size of tensor: {some_tensor.size()}\") # Same as the shape, just another way it may show up\n",
    "print(f\"Device tensor is on: {some_tensor.device}\")"
   ],
   "metadata": {
    "collapsed": false,
    "ExecuteTime": {
     "end_time": "2023-12-23T02:34:21.642535900Z",
     "start_time": "2023-12-23T02:34:21.507539700Z"
    }
   },
   "id": "3d9d2e61580411dc",
   "execution_count": 174
  },
  {
   "cell_type": "markdown",
   "source": [
    "### Tensor operations\n",
    "\n",
    "Tensor operations include:\n",
    "* Addition\n",
    "* Subtraction\n",
    "* Multiplication (element-wise)\n",
    "* Division\n",
    "* Matrix multiplication"
   ],
   "metadata": {
    "collapsed": false
   },
   "id": "de71938cc4adc62b"
  },
  {
   "cell_type": "code",
   "outputs": [
    {
     "data": {
      "text/plain": "tensor([11, 12, 13])"
     },
     "execution_count": 175,
     "metadata": {},
     "output_type": "execute_result"
    }
   ],
   "source": [
    "# Create a tensor and add 10 to it\n",
    "tensor = torch.tensor([1, 2, 3])\n",
    "tensor = tensor + 10\n",
    "tensor"
   ],
   "metadata": {
    "collapsed": false,
    "ExecuteTime": {
     "end_time": "2023-12-23T02:34:21.658535900Z",
     "start_time": "2023-12-23T02:34:21.545539800Z"
    }
   },
   "id": "25030f74a5ad92",
   "execution_count": 175
  },
  {
   "cell_type": "code",
   "outputs": [
    {
     "data": {
      "text/plain": "tensor([1, 2, 3])"
     },
     "execution_count": 176,
     "metadata": {},
     "output_type": "execute_result"
    }
   ],
   "source": [
    "# Subtraction\n",
    "tensor = tensor - 10\n",
    "tensor"
   ],
   "metadata": {
    "collapsed": false,
    "ExecuteTime": {
     "end_time": "2023-12-23T02:34:21.767537700Z",
     "start_time": "2023-12-23T02:34:21.647537800Z"
    }
   },
   "id": "8d2dcf66c8586e60",
   "execution_count": 176
  },
  {
   "cell_type": "code",
   "outputs": [
    {
     "data": {
      "text/plain": "tensor([10, 20, 30])"
     },
     "execution_count": 177,
     "metadata": {},
     "output_type": "execute_result"
    }
   ],
   "source": [
    "# Multiplication\n",
    "tensor = tensor * 10\n",
    "tensor"
   ],
   "metadata": {
    "collapsed": false,
    "ExecuteTime": {
     "end_time": "2023-12-23T02:34:21.812536500Z",
     "start_time": "2023-12-23T02:34:21.700538100Z"
    }
   },
   "id": "4b25e72e1a9049fb",
   "execution_count": 177
  },
  {
   "cell_type": "code",
   "outputs": [
    {
     "data": {
      "text/plain": "tensor([1., 2., 3.])"
     },
     "execution_count": 178,
     "metadata": {},
     "output_type": "execute_result"
    }
   ],
   "source": [
    "# Division\n",
    "tensor = tensor / 10\n",
    "tensor"
   ],
   "metadata": {
    "collapsed": false,
    "ExecuteTime": {
     "end_time": "2023-12-23T02:34:21.934537600Z",
     "start_time": "2023-12-23T02:34:21.799544Z"
    }
   },
   "id": "b1d4af3136a79070",
   "execution_count": 178
  },
  {
   "cell_type": "code",
   "outputs": [
    {
     "data": {
      "text/plain": "tensor([10., 20., 30.])"
     },
     "execution_count": 179,
     "metadata": {},
     "output_type": "execute_result"
    }
   ],
   "source": [
    "# Built-ins\n",
    "tensor = tensor.mul(10)\n",
    "tensor"
   ],
   "metadata": {
    "collapsed": false,
    "ExecuteTime": {
     "end_time": "2023-12-23T02:34:22.054538600Z",
     "start_time": "2023-12-23T02:34:21.918538Z"
    }
   },
   "id": "e295a78c566adfb5",
   "execution_count": 179
  },
  {
   "cell_type": "code",
   "outputs": [
    {
     "data": {
      "text/plain": "tensor([1., 2., 3.])"
     },
     "execution_count": 180,
     "metadata": {},
     "output_type": "execute_result"
    }
   ],
   "source": [
    "tensor = tensor.div(10)\n",
    "tensor"
   ],
   "metadata": {
    "collapsed": false,
    "ExecuteTime": {
     "end_time": "2023-12-23T02:34:22.086540Z",
     "start_time": "2023-12-23T02:34:21.981540700Z"
    }
   },
   "id": "838f028835b68ffb",
   "execution_count": 180
  },
  {
   "cell_type": "code",
   "outputs": [
    {
     "data": {
      "text/plain": "tensor([1.0000e+00, 1.0240e+03, 5.9049e+04])"
     },
     "execution_count": 181,
     "metadata": {},
     "output_type": "execute_result"
    }
   ],
   "source": [
    "tensor = tensor.pow(10)\n",
    "tensor"
   ],
   "metadata": {
    "collapsed": false,
    "ExecuteTime": {
     "end_time": "2023-12-23T02:34:22.199536800Z",
     "start_time": "2023-12-23T02:34:22.086540Z"
    }
   },
   "id": "48c71412f24ae9c6",
   "execution_count": 181
  },
  {
   "cell_type": "code",
   "outputs": [],
   "source": [
    "tensor = torch.tensor([1, 2, 3])"
   ],
   "metadata": {
    "collapsed": false,
    "ExecuteTime": {
     "end_time": "2023-12-23T02:34:22.248537600Z",
     "start_time": "2023-12-23T02:34:22.174541400Z"
    }
   },
   "id": "437890fcbd82faaa",
   "execution_count": 182
  },
  {
   "cell_type": "markdown",
   "source": [
    "### Matrix Multiplication\n",
    "\n",
    "Two main ways of performing multiplication in neural networks and deep learning:\n",
    "\n",
    "1. Element-wise multiplication\n",
    "2. Matrix multiplication (dot product)\n",
    "\n",
    "There are two main rules that performing matrix multiplication needs to satisfy:\n",
    "1. The **inner dimensions** must match:\n",
    "* `(3, 2) @ (3, 2)` won't work\n",
    "* `(2, 3) @ (3, 2)` will work\n",
    "* `(3, 2) @ (2, 3)` will work\n",
    "2. The resulting matrix has the shape of the outer dimensions:\n",
    "* `(2, 3) @ (3, 2)` -> (2, 2)\n",
    "* `(3, 2) @ (2, 3)` -> (3, 3)"
   ],
   "metadata": {
    "collapsed": false
   },
   "id": "721d688ba1d99020"
  },
  {
   "cell_type": "code",
   "outputs": [
    {
     "name": "stdout",
     "output_type": "stream",
     "text": [
      "tensor([1, 2, 3]) * tensor([1, 2, 3])\n",
      "Equals: tensor([1, 4, 9])\n"
     ]
    }
   ],
   "source": [
    "# Element-wise multiplication\n",
    "print(tensor, \"*\", tensor)\n",
    "print(f\"Equals: {tensor * tensor}\")"
   ],
   "metadata": {
    "collapsed": false,
    "ExecuteTime": {
     "end_time": "2023-12-23T02:34:22.406538200Z",
     "start_time": "2023-12-23T02:34:22.239540500Z"
    }
   },
   "id": "3669895bcca5fc3a",
   "execution_count": 183
  },
  {
   "cell_type": "code",
   "outputs": [
    {
     "data": {
      "text/plain": "tensor(14)"
     },
     "execution_count": 184,
     "metadata": {},
     "output_type": "execute_result"
    }
   ],
   "source": [
    "# Matrix multiplication\n",
    "torch.matmul(tensor, tensor)"
   ],
   "metadata": {
    "collapsed": false,
    "ExecuteTime": {
     "end_time": "2023-12-23T02:34:22.466537300Z",
     "start_time": "2023-12-23T02:34:22.400539800Z"
    }
   },
   "id": "ec452e2351634944",
   "execution_count": 184
  },
  {
   "cell_type": "code",
   "outputs": [
    {
     "data": {
      "text/plain": "14"
     },
     "execution_count": 185,
     "metadata": {},
     "output_type": "execute_result"
    }
   ],
   "source": [
    "# Matrix multiplication by hand\n",
    "1*1 + 2*2 + 3*3"
   ],
   "metadata": {
    "collapsed": false,
    "ExecuteTime": {
     "end_time": "2023-12-23T02:34:22.561538900Z",
     "start_time": "2023-12-23T02:34:22.457538700Z"
    }
   },
   "id": "160bb7e800727bdc",
   "execution_count": 185
  },
  {
   "cell_type": "code",
   "outputs": [
    {
     "name": "stdout",
     "output_type": "stream",
     "text": [
      "tensor(14)\n",
      "CPU times: user 1.01 ms, sys: 387 µs, total: 1.4 ms\n",
      "Wall time: 1.01 ms\n"
     ]
    }
   ],
   "source": [
    "%%time\n",
    "value = 0\n",
    "for i in range(len(tensor)):\n",
    "    value += tensor[i] * tensor[i]\n",
    "print(value)"
   ],
   "metadata": {
    "collapsed": false,
    "ExecuteTime": {
     "end_time": "2023-12-23T02:34:22.638538600Z",
     "start_time": "2023-12-23T02:34:22.562538700Z"
    }
   },
   "id": "36bd973879677be4",
   "execution_count": 186
  },
  {
   "cell_type": "code",
   "outputs": [
    {
     "name": "stdout",
     "output_type": "stream",
     "text": [
      "CPU times: user 178 µs, sys: 68 µs, total: 246 µs\n",
      "Wall time: 310 µs\n"
     ]
    },
    {
     "data": {
      "text/plain": "tensor(14)"
     },
     "execution_count": 187,
     "metadata": {},
     "output_type": "execute_result"
    }
   ],
   "source": [
    "%%time\n",
    "torch.matmul(tensor, tensor)"
   ],
   "metadata": {
    "collapsed": false,
    "ExecuteTime": {
     "end_time": "2023-12-23T02:34:22.750539Z",
     "start_time": "2023-12-23T02:34:22.609537500Z"
    }
   },
   "id": "56e32a64d6ff8ffa",
   "execution_count": 187
  },
  {
   "cell_type": "code",
   "outputs": [
    {
     "data": {
      "text/plain": "(tensor([[1, 2, 3],\n         [4, 5, 6]]),\n tensor([[ 7,  8],\n         [ 9, 10],\n         [11, 12]]))"
     },
     "execution_count": 188,
     "metadata": {},
     "output_type": "execute_result"
    }
   ],
   "source": [
    "matrix1 = torch.tensor([[1, 2, 3],\n",
    "                        [4, 5, 6]])\n",
    "matrix2 = torch.tensor([[7, 8],\n",
    "                        [9, 10],\n",
    "                        [11, 12]])\n",
    "matrix1, matrix2"
   ],
   "metadata": {
    "collapsed": false,
    "ExecuteTime": {
     "end_time": "2023-12-23T02:34:22.861536400Z",
     "start_time": "2023-12-23T02:34:22.722538100Z"
    }
   },
   "id": "f42c5eb530d6b972",
   "execution_count": 188
  },
  {
   "cell_type": "code",
   "outputs": [
    {
     "data": {
      "text/plain": "tensor([[ 58,  64],\n        [139, 154]])"
     },
     "execution_count": 189,
     "metadata": {},
     "output_type": "execute_result"
    }
   ],
   "source": [
    "torch.matmul(matrix1, matrix2)"
   ],
   "metadata": {
    "collapsed": false,
    "ExecuteTime": {
     "end_time": "2023-12-23T02:34:22.885537400Z",
     "start_time": "2023-12-23T02:34:22.777537600Z"
    }
   },
   "id": "60a54bbd737157ff",
   "execution_count": 189
  },
  {
   "cell_type": "code",
   "outputs": [
    {
     "ename": "RuntimeError",
     "evalue": "mat1 and mat2 shapes cannot be multiplied (3x2 and 3x2)",
     "output_type": "error",
     "traceback": [
      "\u001B[0;31m---------------------------------------------------------------------------\u001B[0m",
      "\u001B[0;31mRuntimeError\u001B[0m                              Traceback (most recent call last)",
      "Cell \u001B[0;32mIn[190], line 2\u001B[0m\n\u001B[1;32m      1\u001B[0m \u001B[38;5;66;03m# `(3, 2) @ (3, 2)` won't work\u001B[39;00m\n\u001B[0;32m----> 2\u001B[0m \u001B[43mtorch\u001B[49m\u001B[38;5;241;43m.\u001B[39;49m\u001B[43mmatmul\u001B[49m\u001B[43m(\u001B[49m\u001B[43mtorch\u001B[49m\u001B[38;5;241;43m.\u001B[39;49m\u001B[43mrand\u001B[49m\u001B[43m(\u001B[49m\u001B[38;5;241;43m3\u001B[39;49m\u001B[43m,\u001B[49m\u001B[43m \u001B[49m\u001B[38;5;241;43m2\u001B[39;49m\u001B[43m)\u001B[49m\u001B[43m,\u001B[49m\u001B[43m \u001B[49m\u001B[43mtorch\u001B[49m\u001B[38;5;241;43m.\u001B[39;49m\u001B[43mrand\u001B[49m\u001B[43m(\u001B[49m\u001B[38;5;241;43m3\u001B[39;49m\u001B[43m,\u001B[49m\u001B[43m \u001B[49m\u001B[38;5;241;43m2\u001B[39;49m\u001B[43m)\u001B[49m\u001B[43m)\u001B[49m\n",
      "\u001B[0;31mRuntimeError\u001B[0m: mat1 and mat2 shapes cannot be multiplied (3x2 and 3x2)"
     ]
    }
   ],
   "source": [
    "# `(3, 2) @ (3, 2)` won't work\n",
    "torch.matmul(torch.rand(3, 2), torch.rand(3, 2))"
   ],
   "metadata": {
    "collapsed": false,
    "ExecuteTime": {
     "end_time": "2023-12-23T02:34:23.006537400Z",
     "start_time": "2023-12-23T02:34:22.877542500Z"
    }
   },
   "id": "a19937bcb8519c6f",
   "execution_count": 190
  },
  {
   "cell_type": "code",
   "outputs": [
    {
     "data": {
      "text/plain": "tensor([[0.4814, 0.6487],\n        [1.0961, 1.4713]])"
     },
     "execution_count": 191,
     "metadata": {},
     "output_type": "execute_result"
    }
   ],
   "source": [
    "# `(2, 3) @ (3, 2)` will work\n",
    "torch.matmul(torch.rand(2, 3), torch.rand(3, 2))"
   ],
   "metadata": {
    "collapsed": false,
    "ExecuteTime": {
     "end_time": "2023-12-23T02:34:23.041541200Z",
     "start_time": "2023-12-23T02:34:22.913537900Z"
    }
   },
   "id": "4d1abf629bc3c89c",
   "execution_count": 191
  },
  {
   "cell_type": "code",
   "outputs": [
    {
     "data": {
      "text/plain": "tensor([[1.1554, 0.9219, 1.2137],\n        [0.9446, 0.6545, 0.8077],\n        [0.3839, 0.2806, 0.3554]])"
     },
     "execution_count": 192,
     "metadata": {},
     "output_type": "execute_result"
    }
   ],
   "source": [
    "# `(3, 2) @ (2, 3)` will work\n",
    "torch.matmul(torch.rand(3, 2), torch.rand(2, 3))"
   ],
   "metadata": {
    "collapsed": false,
    "ExecuteTime": {
     "end_time": "2023-12-23T02:34:23.708537200Z",
     "start_time": "2023-12-23T02:34:23.034539700Z"
    }
   },
   "id": "7e1ad2d9963fd6df",
   "execution_count": 192
  },
  {
   "cell_type": "markdown",
   "source": [
    "### One of the most common errors in deep learning: shape errors"
   ],
   "metadata": {
    "collapsed": false
   },
   "id": "f0c81ed8d28c74a7"
  },
  {
   "cell_type": "code",
   "outputs": [
    {
     "ename": "RuntimeError",
     "evalue": "mat1 and mat2 shapes cannot be multiplied (3x2 and 3x2)",
     "output_type": "error",
     "traceback": [
      "\u001B[0;31m---------------------------------------------------------------------------\u001B[0m",
      "\u001B[0;31mRuntimeError\u001B[0m                              Traceback (most recent call last)",
      "Cell \u001B[0;32mIn[193], line 9\u001B[0m\n\u001B[1;32m      2\u001B[0m tensor_A \u001B[38;5;241m=\u001B[39m torch\u001B[38;5;241m.\u001B[39mtensor([[\u001B[38;5;241m1\u001B[39m, \u001B[38;5;241m2\u001B[39m],\n\u001B[1;32m      3\u001B[0m                          [\u001B[38;5;241m3\u001B[39m, \u001B[38;5;241m4\u001B[39m],\n\u001B[1;32m      4\u001B[0m                          [\u001B[38;5;241m5\u001B[39m, \u001B[38;5;241m6\u001B[39m]])\n\u001B[1;32m      5\u001B[0m tensor_B \u001B[38;5;241m=\u001B[39m torch\u001B[38;5;241m.\u001B[39mtensor([[\u001B[38;5;241m7\u001B[39m, \u001B[38;5;241m10\u001B[39m],\n\u001B[1;32m      6\u001B[0m                          [\u001B[38;5;241m8\u001B[39m, \u001B[38;5;241m11\u001B[39m],\n\u001B[1;32m      7\u001B[0m                          [\u001B[38;5;241m9\u001B[39m, \u001B[38;5;241m12\u001B[39m]])\n\u001B[0;32m----> 9\u001B[0m \u001B[43mtorch\u001B[49m\u001B[38;5;241;43m.\u001B[39;49m\u001B[43mmm\u001B[49m\u001B[43m(\u001B[49m\u001B[43mtensor_A\u001B[49m\u001B[43m,\u001B[49m\u001B[43m \u001B[49m\u001B[43mtensor_B\u001B[49m\u001B[43m)\u001B[49m  \u001B[38;5;66;03m# torch.mm is an alias for matmul\u001B[39;00m\n",
      "\u001B[0;31mRuntimeError\u001B[0m: mat1 and mat2 shapes cannot be multiplied (3x2 and 3x2)"
     ]
    }
   ],
   "source": [
    "# Shapes for matrix multiplication\n",
    "tensor_A = torch.tensor([[1, 2],\n",
    "                         [3, 4],\n",
    "                         [5, 6]])\n",
    "tensor_B = torch.tensor([[7, 10],\n",
    "                         [8, 11],\n",
    "                         [9, 12]])\n",
    "\n",
    "torch.mm(tensor_A, tensor_B)  # torch.mm is an alias for matmul\n"
   ],
   "metadata": {
    "collapsed": false,
    "ExecuteTime": {
     "end_time": "2023-12-23T02:34:23.809536900Z",
     "start_time": "2023-12-23T02:34:23.692544200Z"
    }
   },
   "id": "a8f3782b9fdbe146",
   "execution_count": 193
  },
  {
   "cell_type": "markdown",
   "source": [
    "To fix tensor shape issues, manipulate the shape of one of the tensors using a **transpose**.\n",
    "\n",
    "A **transpose** switches the axes or dimensions of a given tensor."
   ],
   "metadata": {
    "collapsed": false
   },
   "id": "a239ec197ed464fb"
  },
  {
   "cell_type": "code",
   "outputs": [
    {
     "data": {
      "text/plain": "tensor([[ 7, 10],\n        [ 8, 11],\n        [ 9, 12]])"
     },
     "execution_count": 194,
     "metadata": {},
     "output_type": "execute_result"
    }
   ],
   "source": [
    "tensor_B"
   ],
   "metadata": {
    "collapsed": false,
    "ExecuteTime": {
     "end_time": "2023-12-23T02:34:23.856537900Z",
     "start_time": "2023-12-23T02:34:23.741543800Z"
    }
   },
   "id": "90e5e1733795bb73",
   "execution_count": 194
  },
  {
   "cell_type": "code",
   "outputs": [
    {
     "data": {
      "text/plain": "tensor([[ 7,  8,  9],\n        [10, 11, 12]])"
     },
     "execution_count": 195,
     "metadata": {},
     "output_type": "execute_result"
    }
   ],
   "source": [
    "tensor_B.T"
   ],
   "metadata": {
    "collapsed": false,
    "ExecuteTime": {
     "end_time": "2023-12-23T02:34:23.967538500Z",
     "start_time": "2023-12-23T02:34:23.839537700Z"
    }
   },
   "id": "a4bd7a20281844eb",
   "execution_count": 195
  },
  {
   "cell_type": "code",
   "outputs": [
    {
     "name": "stdout",
     "output_type": "stream",
     "text": [
      "Original shapes:  tensor_A = torch.Size([3, 2]), tensor_B = torch.Size([3, 2])\n",
      "New shapes: tensor_A = torch.Size([3, 2]) (same as above), tensor_B.T = torch.Size([2, 3])\n",
      "Multiplying: torch.Size([3, 2]) @ torch.Size([2, 3]) <- inner dimensions must match\n",
      "Output:\n",
      "\n",
      "tensor([[ 27,  30,  33],\n",
      "        [ 61,  68,  75],\n",
      "        [ 95, 106, 117]])\n",
      "\n",
      "Output shape: torch.Size([3, 3])\n"
     ]
    }
   ],
   "source": [
    "# The matrix multiplication operation works when tensor_B is transposed\n",
    "print(f\"Original shapes:  tensor_A = {tensor_A.shape}, tensor_B = {tensor_B.shape}\")\n",
    "print(f\"New shapes: tensor_A = {tensor_A.shape} (same as above), tensor_B.T = {tensor_B.T.shape}\")\n",
    "print(f\"Multiplying: {tensor_A.shape} @ {tensor_B.T.shape} <- inner dimensions must match\")\n",
    "print(\"Output:\\n\")\n",
    "output = torch.matmul(tensor_A, tensor_B.T)\n",
    "print(output)\n",
    "print(f\"\\nOutput shape: {output.shape}\")"
   ],
   "metadata": {
    "collapsed": false,
    "ExecuteTime": {
     "end_time": "2023-12-23T02:34:24.090536100Z",
     "start_time": "2023-12-23T02:34:23.966536300Z"
    }
   },
   "id": "af62a2fee9a1e9dd",
   "execution_count": 196
  },
  {
   "cell_type": "markdown",
   "source": [
    "## Finding the min, max, mean, sum, etc. (tensor aggregation)"
   ],
   "metadata": {
    "collapsed": false
   },
   "id": "8cdbc5261aa64f77"
  },
  {
   "cell_type": "code",
   "outputs": [
    {
     "data": {
      "text/plain": "tensor([ 0, 10, 20, 30, 40, 50, 60, 70, 80, 90])"
     },
     "execution_count": 197,
     "metadata": {},
     "output_type": "execute_result"
    }
   ],
   "source": [
    "# Create a tensor\n",
    "x = torch.arange(0, 100, 10)\n",
    "x"
   ],
   "metadata": {
    "collapsed": false,
    "ExecuteTime": {
     "end_time": "2023-12-23T02:34:24.134537300Z",
     "start_time": "2023-12-23T02:34:24.028537500Z"
    }
   },
   "id": "1664978f79bae7fb",
   "execution_count": 197
  },
  {
   "cell_type": "code",
   "outputs": [
    {
     "data": {
      "text/plain": "(tensor(0), tensor(0))"
     },
     "execution_count": 198,
     "metadata": {},
     "output_type": "execute_result"
    }
   ],
   "source": [
    "# Find the min\n",
    "torch.min(x), x.min()"
   ],
   "metadata": {
    "collapsed": false,
    "ExecuteTime": {
     "end_time": "2023-12-23T02:34:24.261539200Z",
     "start_time": "2023-12-23T02:34:24.119537300Z"
    }
   },
   "id": "36be25595e6cb57b",
   "execution_count": 198
  },
  {
   "cell_type": "code",
   "outputs": [
    {
     "data": {
      "text/plain": "(tensor(90), tensor(90))"
     },
     "execution_count": 199,
     "metadata": {},
     "output_type": "execute_result"
    }
   ],
   "source": [
    "# Find the max\n",
    "torch.max(x), x.max()"
   ],
   "metadata": {
    "collapsed": false,
    "ExecuteTime": {
     "end_time": "2023-12-23T02:34:24.323539100Z",
     "start_time": "2023-12-23T02:34:24.242540400Z"
    }
   },
   "id": "1d4da84e91f9339e",
   "execution_count": 199
  },
  {
   "cell_type": "code",
   "outputs": [
    {
     "data": {
      "text/plain": "(tensor(45.), tensor(45.))"
     },
     "execution_count": 200,
     "metadata": {},
     "output_type": "execute_result"
    }
   ],
   "source": [
    "# Find the mean - note: torch.mean() function requires a tensor of float32 or another complex number to work\n",
    "torch.mean(x, dtype=torch.float32), x.type(torch.float32).mean()"
   ],
   "metadata": {
    "collapsed": false,
    "ExecuteTime": {
     "end_time": "2023-12-23T02:34:24.436540Z",
     "start_time": "2023-12-23T02:34:24.302541Z"
    }
   },
   "id": "b0bb884651d47794",
   "execution_count": 200
  },
  {
   "cell_type": "code",
   "outputs": [
    {
     "data": {
      "text/plain": "(tensor(450), tensor(450))"
     },
     "execution_count": 201,
     "metadata": {},
     "output_type": "execute_result"
    }
   ],
   "source": [
    "# Find the sum\n",
    "torch.sum(x), x.sum()"
   ],
   "metadata": {
    "collapsed": false,
    "ExecuteTime": {
     "end_time": "2023-12-23T02:34:24.467540300Z",
     "start_time": "2023-12-23T02:34:24.419543900Z"
    }
   },
   "id": "1c4547fe4b617f42",
   "execution_count": 201
  },
  {
   "cell_type": "markdown",
   "source": [
    "## Finding the positional min and max"
   ],
   "metadata": {
    "collapsed": false
   },
   "id": "a4a6ad693deff5ad"
  },
  {
   "cell_type": "code",
   "outputs": [
    {
     "data": {
      "text/plain": "tensor([ 0, 10, 20, 30, 40, 50, 60, 70, 80, 90])"
     },
     "execution_count": 202,
     "metadata": {},
     "output_type": "execute_result"
    }
   ],
   "source": [
    "x"
   ],
   "metadata": {
    "collapsed": false,
    "ExecuteTime": {
     "end_time": "2023-12-23T02:34:24.594538500Z",
     "start_time": "2023-12-23T02:34:24.464537900Z"
    }
   },
   "id": "e722002a79feec17",
   "execution_count": 202
  },
  {
   "cell_type": "code",
   "outputs": [
    {
     "data": {
      "text/plain": "tensor(0)"
     },
     "execution_count": 203,
     "metadata": {},
     "output_type": "execute_result"
    }
   ],
   "source": [
    "# Find the position in tensor that has min value with argmin -> returns index position\n",
    "x.argmin()"
   ],
   "metadata": {
    "collapsed": false,
    "ExecuteTime": {
     "end_time": "2023-12-23T02:34:24.622538800Z",
     "start_time": "2023-12-23T02:34:24.578539700Z"
    }
   },
   "id": "5a2807113b9cf293",
   "execution_count": 203
  },
  {
   "cell_type": "code",
   "outputs": [
    {
     "data": {
      "text/plain": "tensor(0)"
     },
     "execution_count": 204,
     "metadata": {},
     "output_type": "execute_result"
    }
   ],
   "source": [
    "x[0]"
   ],
   "metadata": {
    "collapsed": false,
    "ExecuteTime": {
     "end_time": "2023-12-23T02:34:24.745537500Z",
     "start_time": "2023-12-23T02:34:24.608541400Z"
    }
   },
   "id": "8d83e6ce95daae3c",
   "execution_count": 204
  },
  {
   "cell_type": "code",
   "outputs": [
    {
     "data": {
      "text/plain": "tensor(9)"
     },
     "execution_count": 205,
     "metadata": {},
     "output_type": "execute_result"
    }
   ],
   "source": [
    "# Find the position in tensor that has max value with argmax -> returns index position\n",
    "x.argmax()"
   ],
   "metadata": {
    "collapsed": false,
    "ExecuteTime": {
     "end_time": "2023-12-23T02:34:24.822536300Z",
     "start_time": "2023-12-23T02:34:24.695538700Z"
    }
   },
   "id": "aa6207e58cb6ecce",
   "execution_count": 205
  },
  {
   "cell_type": "code",
   "outputs": [
    {
     "data": {
      "text/plain": "tensor(90)"
     },
     "execution_count": 206,
     "metadata": {},
     "output_type": "execute_result"
    }
   ],
   "source": [
    "x[9]"
   ],
   "metadata": {
    "collapsed": false,
    "ExecuteTime": {
     "end_time": "2023-12-23T02:34:24.888535400Z",
     "start_time": "2023-12-23T02:34:24.781541500Z"
    }
   },
   "id": "58992dbca7377198",
   "execution_count": 206
  },
  {
   "cell_type": "markdown",
   "source": [
    "## Reshaping, stacking, squeezing and unsqueezing tensors\n",
    "\n",
    "* Reshaping - reshapes an input tensor to a defined shape\n",
    "* View - Return a view of an input tensor of certain shape but keep the same memory as the original tensor\n",
    "* Stacking - combine multiple tensors on top of each other (vstack) or side by side (hstack)\n",
    "* Squeeze - removes all '1' dimensions from a tensor\n",
    "* Unsqeeze - add a '1' dimension to a target tensor\n",
    "* Permute - Return a view of the input with dimensions permuted (swapped) in a certain way"
   ],
   "metadata": {
    "collapsed": false
   },
   "id": "f02fb36865c0d8f3"
  },
  {
   "cell_type": "code",
   "outputs": [
    {
     "data": {
      "text/plain": "(tensor([1., 2., 3., 4., 5., 6., 7., 8., 9.]), torch.Size([9]))"
     },
     "execution_count": 207,
     "metadata": {},
     "output_type": "execute_result"
    }
   ],
   "source": [
    "x = torch.arange(1., 10.)\n",
    "x, x.shape"
   ],
   "metadata": {
    "collapsed": false,
    "ExecuteTime": {
     "end_time": "2023-12-23T02:34:24.985539900Z",
     "start_time": "2023-12-23T02:34:24.873544700Z"
    }
   },
   "id": "f91cca1e89874c90",
   "execution_count": 207
  },
  {
   "cell_type": "code",
   "outputs": [
    {
     "data": {
      "text/plain": "(tensor([[1., 2., 3., 4., 5., 6., 7., 8., 9.]]), torch.Size([1, 9]))"
     },
     "execution_count": 208,
     "metadata": {},
     "output_type": "execute_result"
    }
   ],
   "source": [
    "# Add an extra dimension\n",
    "x_reshaped = x.reshape(1, 9)\n",
    "x_reshaped, x_reshaped.shape"
   ],
   "metadata": {
    "collapsed": false,
    "ExecuteTime": {
     "end_time": "2023-12-23T02:34:25.103540200Z",
     "start_time": "2023-12-23T02:34:24.969545600Z"
    }
   },
   "id": "e94f7bbb92b88598",
   "execution_count": 208
  },
  {
   "cell_type": "code",
   "outputs": [
    {
     "data": {
      "text/plain": "(tensor([[1., 2., 3., 4., 5., 6., 7., 8., 9.]]), torch.Size([1, 9]))"
     },
     "execution_count": 209,
     "metadata": {},
     "output_type": "execute_result"
    }
   ],
   "source": [
    "# Change the view\n",
    "z = x.view(1, 9)\n",
    "z, z.shape"
   ],
   "metadata": {
    "collapsed": false,
    "ExecuteTime": {
     "end_time": "2023-12-23T02:34:25.141537900Z",
     "start_time": "2023-12-23T02:34:25.034538100Z"
    }
   },
   "id": "cad7b1b4ced423f6",
   "execution_count": 209
  },
  {
   "cell_type": "code",
   "outputs": [
    {
     "data": {
      "text/plain": "(tensor([[5., 2., 3., 4., 5., 6., 7., 8., 9.]]),\n tensor([5., 2., 3., 4., 5., 6., 7., 8., 9.]))"
     },
     "execution_count": 210,
     "metadata": {},
     "output_type": "execute_result"
    }
   ],
   "source": [
    "# Changing z changes x because a view of a tensor shares the same memory as the original input\n",
    "z[:, 0] = 5\n",
    "z, x"
   ],
   "metadata": {
    "collapsed": false,
    "ExecuteTime": {
     "end_time": "2023-12-23T02:34:25.231537600Z",
     "start_time": "2023-12-23T02:34:25.131539800Z"
    }
   },
   "id": "98876dbbf8239c59",
   "execution_count": 210
  },
  {
   "cell_type": "code",
   "outputs": [
    {
     "data": {
      "text/plain": "tensor([[5., 2., 3., 4., 5., 6., 7., 8., 9.],\n        [5., 2., 3., 4., 5., 6., 7., 8., 9.],\n        [5., 2., 3., 4., 5., 6., 7., 8., 9.],\n        [5., 2., 3., 4., 5., 6., 7., 8., 9.]])"
     },
     "execution_count": 211,
     "metadata": {},
     "output_type": "execute_result"
    }
   ],
   "source": [
    "# Stack tensors on top of each other\n",
    "x_stacked = torch.stack([x, x, x, x], dim=0)\n",
    "x_stacked"
   ],
   "metadata": {
    "collapsed": false,
    "ExecuteTime": {
     "end_time": "2023-12-23T02:34:25.368536800Z",
     "start_time": "2023-12-23T02:34:25.212545300Z"
    }
   },
   "id": "524222f004e98059",
   "execution_count": 211
  },
  {
   "cell_type": "code",
   "outputs": [
    {
     "data": {
      "text/plain": "tensor([[5., 2., 3., 4., 5., 6., 7., 8., 9.],\n        [5., 2., 3., 4., 5., 6., 7., 8., 9.],\n        [5., 2., 3., 4., 5., 6., 7., 8., 9.],\n        [5., 2., 3., 4., 5., 6., 7., 8., 9.]])"
     },
     "execution_count": 212,
     "metadata": {},
     "output_type": "execute_result"
    }
   ],
   "source": [
    "# VStack\n",
    "x_vstacked = torch.vstack([x, x, x, x])\n",
    "x_vstacked"
   ],
   "metadata": {
    "collapsed": false,
    "ExecuteTime": {
     "end_time": "2023-12-23T02:34:25.381538600Z",
     "start_time": "2023-12-23T02:34:25.254537500Z"
    }
   },
   "id": "129e7d8c9feac256",
   "execution_count": 212
  },
  {
   "cell_type": "code",
   "outputs": [
    {
     "data": {
      "text/plain": "tensor([5., 2., 3., 4., 5., 6., 7., 8., 9., 5., 2., 3., 4., 5., 6., 7., 8., 9.,\n        5., 2., 3., 4., 5., 6., 7., 8., 9., 5., 2., 3., 4., 5., 6., 7., 8., 9.])"
     },
     "execution_count": 213,
     "metadata": {},
     "output_type": "execute_result"
    }
   ],
   "source": [
    "# HStack\n",
    "x_hstacked = torch.hstack([x, x, x, x])\n",
    "x_hstacked"
   ],
   "metadata": {
    "collapsed": false,
    "ExecuteTime": {
     "end_time": "2023-12-23T02:34:25.480536500Z",
     "start_time": "2023-12-23T02:34:25.373540300Z"
    }
   },
   "id": "d06e502533538e02",
   "execution_count": 213
  },
  {
   "cell_type": "code",
   "outputs": [
    {
     "name": "stdout",
     "output_type": "stream",
     "text": [
      "Previous tensor: tensor([[5., 2., 3., 4., 5., 6., 7., 8., 9.]])\n",
      "Previous shape: torch.Size([1, 9])\n",
      "\n",
      "New tensor: tensor([5., 2., 3., 4., 5., 6., 7., 8., 9.])\n",
      "New shape: torch.Size([9])\n"
     ]
    }
   ],
   "source": [
    "# Squeeze - torch.squeeze() removes all single dimensions from a target tensor\n",
    "print(f\"Previous tensor: {x_reshaped}\")\n",
    "print(f\"Previous shape: {x_reshaped.shape}\")\n",
    "\n",
    "# Remove extra dimensions from x_reshaped\n",
    "x_squeezed = x_reshaped.squeeze()\n",
    "print(f\"\\nNew tensor: {x_squeezed}\")\n",
    "print(f\"New shape: {x_squeezed.shape}\")"
   ],
   "metadata": {
    "collapsed": false,
    "ExecuteTime": {
     "end_time": "2023-12-23T02:34:25.485541700Z",
     "start_time": "2023-12-23T02:34:25.402538Z"
    }
   },
   "id": "d60fe17fffee8d32",
   "execution_count": 214
  },
  {
   "cell_type": "code",
   "outputs": [
    {
     "name": "stdout",
     "output_type": "stream",
     "text": [
      "Previous target: tensor([5., 2., 3., 4., 5., 6., 7., 8., 9.])\n",
      "Previous shape: torch.Size([9])\n",
      "\n",
      "New Tensor: tensor([[5., 2., 3., 4., 5., 6., 7., 8., 9.]])\n",
      "New shape: torch.Size([1, 9])\n"
     ]
    }
   ],
   "source": [
    "# Unsqueeze - torch.unsqueeze() adds a single dimension to a target tensor at a specific dimension\n",
    "print(f\"Previous target: {x_squeezed}\")\n",
    "print(f\"Previous shape: {x_squeezed.shape}\")\n",
    "\n",
    "# Add extra dimension to x_squeezed\n",
    "x_unsqueezed = x_squeezed.unsqueeze(dim=0)\n",
    "print(f\"\\nNew Tensor: {x_unsqueezed}\")\n",
    "print(f\"New shape: {x_unsqueezed.shape}\")"
   ],
   "metadata": {
    "collapsed": false,
    "ExecuteTime": {
     "end_time": "2023-12-23T02:34:25.608535800Z",
     "start_time": "2023-12-23T02:34:25.484536500Z"
    }
   },
   "id": "683c4311706f87a6",
   "execution_count": 215
  },
  {
   "cell_type": "code",
   "outputs": [
    {
     "name": "stdout",
     "output_type": "stream",
     "text": [
      "Previous shape: torch.Size([224, 224, 3])\n",
      "New shape: torch.Size([3, 224, 224])\n"
     ]
    }
   ],
   "source": [
    "# Permute - torch.permute() rearranges the dimensions of a target tensor in a specified order\n",
    "x_original = torch.rand(size=(224, 224, 3)) # [height, width, color_channels]\n",
    "\n",
    "# Permute the original tensor to rearrange the axis or dimension order\n",
    "x_permuted = x_original.permute(2, 0, 1) # shifts axis 0->1, 1->2, 2->0\n",
    "\n",
    "print(f\"Previous shape: {x_original.shape}\")\n",
    "print(f\"New shape: {x_permuted.shape}\") # [color_channels, height, width"
   ],
   "metadata": {
    "collapsed": false,
    "ExecuteTime": {
     "end_time": "2023-12-23T02:34:25.627536800Z",
     "start_time": "2023-12-23T02:34:25.524537200Z"
    }
   },
   "id": "94a9e8014f78b22e",
   "execution_count": 216
  },
  {
   "cell_type": "markdown",
   "source": [
    "## Indexing - selecting data from tensors\n",
    "\n",
    "Indexing with PyTorch is similar to indexing with NumPy"
   ],
   "metadata": {
    "collapsed": false
   },
   "id": "24ed02bc100d8bb5"
  },
  {
   "cell_type": "code",
   "outputs": [
    {
     "data": {
      "text/plain": "(tensor([[[1, 2, 3],\n          [4, 5, 6],\n          [7, 8, 9]]]),\n torch.Size([1, 3, 3]))"
     },
     "execution_count": 217,
     "metadata": {},
     "output_type": "execute_result"
    }
   ],
   "source": [
    "x = torch.arange(1, 10).reshape(1, 3, 3)\n",
    "x, x.shape"
   ],
   "metadata": {
    "collapsed": false,
    "ExecuteTime": {
     "end_time": "2023-12-23T02:34:25.667540100Z",
     "start_time": "2023-12-23T02:34:25.614538500Z"
    }
   },
   "id": "3035b5a89631b29c",
   "execution_count": 217
  },
  {
   "cell_type": "code",
   "outputs": [
    {
     "data": {
      "text/plain": "tensor([[1, 2, 3],\n        [4, 5, 6],\n        [7, 8, 9]])"
     },
     "execution_count": 218,
     "metadata": {},
     "output_type": "execute_result"
    }
   ],
   "source": [
    "# Index on new tensor\n",
    "x[0]"
   ],
   "metadata": {
    "collapsed": false,
    "ExecuteTime": {
     "end_time": "2023-12-23T02:34:25.771535800Z",
     "start_time": "2023-12-23T02:34:25.668543200Z"
    }
   },
   "id": "948acca0f586d861",
   "execution_count": 218
  },
  {
   "cell_type": "code",
   "outputs": [
    {
     "data": {
      "text/plain": "(tensor([1, 2, 3]), tensor([1, 2, 3]))"
     },
     "execution_count": 219,
     "metadata": {},
     "output_type": "execute_result"
    }
   ],
   "source": [
    "# Index on middle bracket (dim=1)\n",
    "x[0][0], x[0, 0]"
   ],
   "metadata": {
    "collapsed": false,
    "ExecuteTime": {
     "end_time": "2023-12-23T02:34:25.832537600Z",
     "start_time": "2023-12-23T02:34:25.753540600Z"
    }
   },
   "id": "f81a01b771fe1fb1",
   "execution_count": 219
  },
  {
   "cell_type": "code",
   "outputs": [
    {
     "data": {
      "text/plain": "(tensor(1), tensor(1))"
     },
     "execution_count": 220,
     "metadata": {},
     "output_type": "execute_result"
    }
   ],
   "source": [
    "# Index on inner bracket (last dimension)\n",
    "x[0][0][0], x[0, 0, 0]"
   ],
   "metadata": {
    "collapsed": false,
    "ExecuteTime": {
     "end_time": "2023-12-23T02:34:25.958536200Z",
     "start_time": "2023-12-23T02:34:25.825537600Z"
    }
   },
   "id": "a76e0ff607c5f09",
   "execution_count": 220
  },
  {
   "cell_type": "code",
   "outputs": [
    {
     "data": {
      "text/plain": "tensor([[1, 2, 3]])"
     },
     "execution_count": 221,
     "metadata": {},
     "output_type": "execute_result"
    }
   ],
   "source": [
    "# Can use ':' to select 'all' of the target dimension\n",
    "x[:, 0]"
   ],
   "metadata": {
    "collapsed": false,
    "ExecuteTime": {
     "end_time": "2023-12-23T02:34:25.987535500Z",
     "start_time": "2023-12-23T02:34:25.946537400Z"
    }
   },
   "id": "e2acbb0c526582ad",
   "execution_count": 221
  },
  {
   "cell_type": "code",
   "outputs": [
    {
     "data": {
      "text/plain": "tensor([[2, 5, 8]])"
     },
     "execution_count": 222,
     "metadata": {},
     "output_type": "execute_result"
    }
   ],
   "source": [
    "# Get all values of 0th and 1st dimensions but only index 1 of 2nd dimension\n",
    "x[:, :, 1]"
   ],
   "metadata": {
    "collapsed": false,
    "ExecuteTime": {
     "end_time": "2023-12-23T02:34:26.062537600Z",
     "start_time": "2023-12-23T02:34:25.976537200Z"
    }
   },
   "id": "f4dba32201fde6b3",
   "execution_count": 222
  },
  {
   "cell_type": "code",
   "outputs": [
    {
     "data": {
      "text/plain": "tensor([5])"
     },
     "execution_count": 223,
     "metadata": {},
     "output_type": "execute_result"
    }
   ],
   "source": [
    "# Get all values of the 0 dimension but only the 1 index value of 1st and 2nd dimension\n",
    "x[:, 1, 1]"
   ],
   "metadata": {
    "collapsed": false,
    "ExecuteTime": {
     "end_time": "2023-12-23T02:34:26.102536100Z",
     "start_time": "2023-12-23T02:34:26.045539600Z"
    }
   },
   "id": "d3c0c6cd0ef2461d",
   "execution_count": 223
  },
  {
   "cell_type": "code",
   "outputs": [
    {
     "data": {
      "text/plain": "tensor([1, 2, 3])"
     },
     "execution_count": 224,
     "metadata": {},
     "output_type": "execute_result"
    }
   ],
   "source": [
    "# Get index 0 of 0th and 1st dimension and all values of 2nd dimension\n",
    "x[0, 0, :]"
   ],
   "metadata": {
    "collapsed": false,
    "ExecuteTime": {
     "end_time": "2023-12-23T02:34:26.187536600Z",
     "start_time": "2023-12-23T02:34:26.092537700Z"
    }
   },
   "id": "66bfb05f8d984647",
   "execution_count": 224
  },
  {
   "cell_type": "code",
   "outputs": [
    {
     "data": {
      "text/plain": "tensor(9)"
     },
     "execution_count": 225,
     "metadata": {},
     "output_type": "execute_result"
    }
   ],
   "source": [
    "# Index on x to return 9\n",
    "x[0, 2, 2]"
   ],
   "metadata": {
    "collapsed": false,
    "ExecuteTime": {
     "end_time": "2023-12-23T02:34:26.206540500Z",
     "start_time": "2023-12-23T02:34:26.171537400Z"
    }
   },
   "id": "b046a67fa90372c0",
   "execution_count": 225
  },
  {
   "cell_type": "code",
   "outputs": [
    {
     "data": {
      "text/plain": "tensor([[3, 6, 9]])"
     },
     "execution_count": 226,
     "metadata": {},
     "output_type": "execute_result"
    }
   ],
   "source": [
    "# Index on x to return 3, 6, 9\n",
    "x[:, :, 2]"
   ],
   "metadata": {
    "collapsed": false,
    "ExecuteTime": {
     "end_time": "2023-12-23T02:34:26.294537700Z",
     "start_time": "2023-12-23T02:34:26.206540500Z"
    }
   },
   "id": "78f4fa74ea5ff0b0",
   "execution_count": 226
  },
  {
   "cell_type": "markdown",
   "source": [
    "## PyTorch tensors & NumPy\n",
    "\n",
    "NumPy is a popular scientific Python numerical computing library.\n",
    "\n",
    "PyTorch has functionality to interact with it.\n",
    "\n",
    "* Data in NumPy -> PyTorch tensor: `torch.from_numpy(ndarray)`\n",
    "* PyTorch tensor -> NumPy: `torch.Tensor.numpy()`"
   ],
   "metadata": {
    "collapsed": false
   },
   "id": "b38969167eaf23d"
  },
  {
   "cell_type": "code",
   "outputs": [
    {
     "data": {
      "text/plain": "(array([1., 2., 3., 4., 5., 6., 7.]),\n tensor([1., 2., 3., 4., 5., 6., 7.], dtype=torch.float64))"
     },
     "execution_count": 227,
     "metadata": {},
     "output_type": "execute_result"
    }
   ],
   "source": [
    "# NumPy array to tensor\n",
    "array = np.arange(1.0, 8.0)\n",
    "tensor = torch.from_numpy(array) # warning: when converting from NumPy -> PyTorch, PyTorch reflects NumPy's float64\n",
    "array, tensor"
   ],
   "metadata": {
    "collapsed": false,
    "ExecuteTime": {
     "end_time": "2023-12-23T02:34:26.394536900Z",
     "start_time": "2023-12-23T02:34:26.268541900Z"
    }
   },
   "id": "6a7187f63fc7b79b",
   "execution_count": 227
  },
  {
   "cell_type": "code",
   "outputs": [
    {
     "data": {
      "text/plain": "(array([2., 3., 4., 5., 6., 7., 8.]),\n tensor([1., 2., 3., 4., 5., 6., 7.], dtype=torch.float64))"
     },
     "execution_count": 228,
     "metadata": {},
     "output_type": "execute_result"
    }
   ],
   "source": [
    "# What will changing the value of the array do to the tensor?\n",
    "array = array + 1\n",
    "array, tensor"
   ],
   "metadata": {
    "collapsed": false,
    "ExecuteTime": {
     "end_time": "2023-12-23T02:34:26.411535900Z",
     "start_time": "2023-12-23T02:34:26.310543100Z"
    }
   },
   "id": "36227a5c1dcc19f0",
   "execution_count": 228
  },
  {
   "cell_type": "code",
   "outputs": [
    {
     "data": {
      "text/plain": "(tensor([1., 1., 1., 1., 1., 1., 1.]),\n array([1., 1., 1., 1., 1., 1., 1.], dtype=float32))"
     },
     "execution_count": 229,
     "metadata": {},
     "output_type": "execute_result"
    }
   ],
   "source": [
    "# Tensor to NumPy array\n",
    "tensor = torch.ones(7)\n",
    "numpy_tensor = tensor.numpy() # warning: reflects original tensor dtype to the new NumPy values\n",
    "tensor, numpy_tensor"
   ],
   "metadata": {
    "collapsed": false,
    "ExecuteTime": {
     "end_time": "2023-12-23T02:34:26.519537600Z",
     "start_time": "2023-12-23T02:34:26.398539100Z"
    }
   },
   "id": "cf0b39d156ff4710",
   "execution_count": 229
  },
  {
   "cell_type": "code",
   "outputs": [
    {
     "data": {
      "text/plain": "(tensor([2., 2., 2., 2., 2., 2., 2.]),\n array([1., 1., 1., 1., 1., 1., 1.], dtype=float32))"
     },
     "execution_count": 230,
     "metadata": {},
     "output_type": "execute_result"
    }
   ],
   "source": [
    "# What will changing the tensor do to the NumPy array? - No change, they do not share memory\n",
    "tensor = tensor + 1\n",
    "tensor, numpy_tensor"
   ],
   "metadata": {
    "collapsed": false,
    "ExecuteTime": {
     "end_time": "2023-12-23T02:34:26.573540Z",
     "start_time": "2023-12-23T02:34:26.463539900Z"
    }
   },
   "id": "238922ee22c43c2d",
   "execution_count": 230
  },
  {
   "cell_type": "markdown",
   "source": [],
   "metadata": {
    "collapsed": false
   },
   "id": "52010b3fef3b2e79"
  },
  {
   "cell_type": "markdown",
   "source": [
    "## Reproducibility - Trying to take the random out of random\n",
    "\n",
    "How a neural network learns:\n",
    "\n",
    "`start with random numbers -> tensor operations -> update random numbers to try and make them better representations of the data -> again -> again -> again ...`\n",
    "\n",
    "To reduce the randomness in neural networks and PyTorch comes the concept of a **random seed**.\n",
    "\n",
    "A seed \"flavors\" the randomness."
   ],
   "metadata": {
    "collapsed": false
   },
   "id": "2793403bc9281efc"
  },
  {
   "cell_type": "code",
   "outputs": [
    {
     "name": "stdout",
     "output_type": "stream",
     "text": [
      "tensor([[0.3878, 0.9579, 0.8932, 0.5257],\n",
      "        [0.0724, 0.1792, 0.6991, 0.8631],\n",
      "        [0.6793, 0.7896, 0.5807, 0.5846]])\n",
      "tensor([[0.8938, 0.7874, 0.5334, 0.5065],\n",
      "        [0.3767, 0.6547, 0.8055, 0.2323],\n",
      "        [0.7001, 0.8818, 0.8782, 0.5274]])\n",
      "tensor([[False, False, False, False],\n",
      "        [False, False, False, False],\n",
      "        [False, False, False, False]])\n"
     ]
    }
   ],
   "source": [
    "random_tensorA = torch.rand(3, 4)\n",
    "random_tensorB = torch.rand(3, 4)\n",
    "\n",
    "print(random_tensorA)\n",
    "print(random_tensorB)\n",
    "print(random_tensorA == random_tensorB)"
   ],
   "metadata": {
    "collapsed": false,
    "ExecuteTime": {
     "end_time": "2023-12-23T02:34:26.675537400Z",
     "start_time": "2023-12-23T02:34:26.544539300Z"
    }
   },
   "id": "340b7911b315108",
   "execution_count": 231
  },
  {
   "cell_type": "code",
   "outputs": [
    {
     "name": "stdout",
     "output_type": "stream",
     "text": [
      "tensor([[0.2961, 0.5166, 0.2517, 0.6886],\n",
      "        [0.0740, 0.8665, 0.1366, 0.1025],\n",
      "        [0.1841, 0.7264, 0.3153, 0.6871]])\n",
      "tensor([[0.2961, 0.5166, 0.2517, 0.6886],\n",
      "        [0.0740, 0.8665, 0.1366, 0.1025],\n",
      "        [0.1841, 0.7264, 0.3153, 0.6871]])\n",
      "tensor([[True, True, True, True],\n",
      "        [True, True, True, True],\n",
      "        [True, True, True, True]])\n"
     ]
    }
   ],
   "source": [
    "# Add seeds to make them predictable and therefore reproducable\n",
    "# Set the random seed\n",
    "RANDOM_SEED = 123\n",
    "torch.manual_seed(RANDOM_SEED)\n",
    "random_tensorC = torch.rand(3, 4)\n",
    "\n",
    "torch.manual_seed(RANDOM_SEED)\n",
    "random_tensorD = torch.rand(3, 4)\n",
    "\n",
    "print(random_tensorC)\n",
    "print(random_tensorD)\n",
    "print(random_tensorC == random_tensorD)"
   ],
   "metadata": {
    "collapsed": false,
    "ExecuteTime": {
     "end_time": "2023-12-23T02:34:26.748536800Z",
     "start_time": "2023-12-23T02:34:26.595537700Z"
    }
   },
   "id": "4ad60fab08391b38",
   "execution_count": 232
  },
  {
   "cell_type": "markdown",
   "source": [
    "## Running tensors and PyTorch objects on the GPUs (and making faster computations)\n",
    "\n",
    "GPUs = faster computation on numbers thanks to CUDA + NVIDIA hardware + PyTorch working behind the scenes"
   ],
   "metadata": {
    "collapsed": false
   },
   "id": "1e68a9568657dfcf"
  },
  {
   "cell_type": "markdown",
   "source": [
    "### 1. Getting a GPU\n",
    "\n",
    "* Easiest - Use Google Colab for a free GPU\n",
    "* Use your own GPU - takes a bit of setup and requires purchasing a GPU\n",
    "* Use cloud computing - GCP, AWS, Azure: allow you to rent computers on the cloud"
   ],
   "metadata": {
    "collapsed": false
   },
   "id": "f86064fada6db710"
  },
  {
   "cell_type": "code",
   "outputs": [
    {
     "name": "stdout",
     "output_type": "stream",
     "text": [
      "/bin/bash: warning: setlocale: LC_ALL: cannot change locale (en_US.UTF-8)\r\n",
      "Fri Dec 22 19:34:26 2023       \r\n",
      "+---------------------------------------------------------------------------------------+\r\n",
      "| NVIDIA-SMI 535.86.01              Driver Version: 536.67       CUDA Version: 12.2     |\r\n",
      "|-----------------------------------------+----------------------+----------------------+\r\n",
      "| GPU  Name                 Persistence-M | Bus-Id        Disp.A | Volatile Uncorr. ECC |\r\n",
      "| Fan  Temp   Perf          Pwr:Usage/Cap |         Memory-Usage | GPU-Util  Compute M. |\r\n",
      "|                                         |                      |               MIG M. |\r\n",
      "|=========================================+======================+======================|\r\n",
      "|   0  NVIDIA GeForce GTX 970         On  | 00000000:01:00.0  On |                  N/A |\r\n",
      "|  0%   46C    P8              24W / 200W |   1126MiB /  4096MiB |     13%      Default |\r\n",
      "|                                         |                      |                  N/A |\r\n",
      "+-----------------------------------------+----------------------+----------------------+\r\n",
      "                                                                                         \r\n",
      "+---------------------------------------------------------------------------------------+\r\n",
      "| Processes:                                                                            |\r\n",
      "|  GPU   GI   CI        PID   Type   Process name                            GPU Memory |\r\n",
      "|        ID   ID                                                             Usage      |\r\n",
      "|=======================================================================================|\r\n",
      "|    0   N/A  N/A       201      G   /Xwayland                                 N/A      |\r\n",
      "|    0   N/A  N/A    247826      C   /python3.11                               N/A      |\r\n",
      "+---------------------------------------------------------------------------------------+\r\n"
     ]
    }
   ],
   "source": [
    "!nvidia-smi"
   ],
   "metadata": {
    "collapsed": false,
    "ExecuteTime": {
     "end_time": "2023-12-23T02:34:27.004537800Z",
     "start_time": "2023-12-23T02:34:26.694540400Z"
    }
   },
   "id": "18303aeea0528c42",
   "execution_count": 233
  },
  {
   "cell_type": "markdown",
   "source": [
    "### 2. Check for GPU access with PyTorch"
   ],
   "metadata": {
    "collapsed": false
   },
   "id": "606a3fe3974b9789"
  },
  {
   "cell_type": "code",
   "outputs": [
    {
     "data": {
      "text/plain": "True"
     },
     "execution_count": 234,
     "metadata": {},
     "output_type": "execute_result"
    }
   ],
   "source": [
    "torch.cuda.is_available()"
   ],
   "metadata": {
    "collapsed": false,
    "ExecuteTime": {
     "end_time": "2023-12-23T02:34:27.008536800Z",
     "start_time": "2023-12-23T02:34:26.925536300Z"
    }
   },
   "id": "95d6363abf6d2dda",
   "execution_count": 234
  },
  {
   "cell_type": "markdown",
   "source": [
    "Best practices call for setting up device agnostic code:\n",
    "https://pytorch.org/docs/stable/notes/cuda.html#best-practices"
   ],
   "metadata": {
    "collapsed": false
   },
   "id": "4547b4ebc7c6b352"
  },
  {
   "cell_type": "code",
   "outputs": [
    {
     "data": {
      "text/plain": "'cuda'"
     },
     "execution_count": 235,
     "metadata": {},
     "output_type": "execute_result"
    }
   ],
   "source": [
    "# Setup device agnostic code\n",
    "device = \"cuda\" if torch.cuda.is_available() else \"cpu\"\n",
    "device"
   ],
   "metadata": {
    "collapsed": false,
    "ExecuteTime": {
     "end_time": "2023-12-23T02:34:27.019536800Z",
     "start_time": "2023-12-23T02:34:26.939537900Z"
    }
   },
   "id": "52ca06575c73688a",
   "execution_count": 235
  },
  {
   "cell_type": "code",
   "outputs": [
    {
     "data": {
      "text/plain": "1"
     },
     "execution_count": 236,
     "metadata": {},
     "output_type": "execute_result"
    }
   ],
   "source": [
    "# Count number of devices\n",
    "torch.cuda.device_count()"
   ],
   "metadata": {
    "collapsed": false,
    "ExecuteTime": {
     "end_time": "2023-12-23T02:34:27.089537Z",
     "start_time": "2023-12-23T02:34:26.944542900Z"
    }
   },
   "id": "a5048b45eaca8bc6",
   "execution_count": 236
  },
  {
   "cell_type": "markdown",
   "source": [
    "### 3. Putting tensors (and models) on the GPU"
   ],
   "metadata": {
    "collapsed": false
   },
   "id": "70c4145ed0bc9e37"
  },
  {
   "cell_type": "code",
   "outputs": [
    {
     "name": "stdout",
     "output_type": "stream",
     "text": [
      "tensor([1, 2, 3]) cpu\n"
     ]
    }
   ],
   "source": [
    "tensor = torch.tensor([1, 2, 3])\n",
    "\n",
    "print(tensor, tensor.device)"
   ],
   "metadata": {
    "collapsed": false,
    "ExecuteTime": {
     "end_time": "2023-12-23T02:34:27.113536400Z",
     "start_time": "2023-12-23T02:34:26.963538700Z"
    }
   },
   "id": "3e3236e0f754e489",
   "execution_count": 237
  },
  {
   "cell_type": "code",
   "outputs": [
    {
     "data": {
      "text/plain": "tensor([1, 2, 3], device='cuda:0')"
     },
     "execution_count": 238,
     "metadata": {},
     "output_type": "execute_result"
    }
   ],
   "source": [
    "# Move tensor to GPU if available\n",
    "tensor_on_gpu = tensor.to(device)\n",
    "tensor_on_gpu"
   ],
   "metadata": {
    "collapsed": false,
    "ExecuteTime": {
     "end_time": "2023-12-23T02:34:27.167536300Z",
     "start_time": "2023-12-23T02:34:26.980536900Z"
    }
   },
   "id": "2367e20f5c2c436f",
   "execution_count": 238
  },
  {
   "cell_type": "markdown",
   "source": [
    "### 4. Moving tensors back to CPU"
   ],
   "metadata": {
    "collapsed": false
   },
   "id": "e8e61e7dc4bb9fb8"
  },
  {
   "cell_type": "code",
   "outputs": [
    {
     "ename": "TypeError",
     "evalue": "can't convert cuda:0 device type tensor to numpy. Use Tensor.cpu() to copy the tensor to host memory first.",
     "output_type": "error",
     "traceback": [
      "\u001B[0;31m---------------------------------------------------------------------------\u001B[0m",
      "\u001B[0;31mTypeError\u001B[0m                                 Traceback (most recent call last)",
      "Cell \u001B[0;32mIn[239], line 2\u001B[0m\n\u001B[1;32m      1\u001B[0m \u001B[38;5;66;03m# If tensor is on GPU, can't transform to NumPy\u001B[39;00m\n\u001B[0;32m----> 2\u001B[0m \u001B[43mtensor_on_gpu\u001B[49m\u001B[38;5;241;43m.\u001B[39;49m\u001B[43mnumpy\u001B[49m\u001B[43m(\u001B[49m\u001B[43m)\u001B[49m\n",
      "\u001B[0;31mTypeError\u001B[0m: can't convert cuda:0 device type tensor to numpy. Use Tensor.cpu() to copy the tensor to host memory first."
     ]
    }
   ],
   "source": [
    "# If tensor is on GPU, can't transform to NumPy\n",
    "tensor_on_gpu.numpy()"
   ],
   "metadata": {
    "collapsed": false,
    "ExecuteTime": {
     "end_time": "2023-12-23T02:34:27.298539800Z",
     "start_time": "2023-12-23T02:34:27.133537800Z"
    }
   },
   "id": "6e10989f946befd9",
   "execution_count": 239
  },
  {
   "cell_type": "code",
   "outputs": [
    {
     "data": {
      "text/plain": "array([1, 2, 3])"
     },
     "execution_count": 240,
     "metadata": {},
     "output_type": "execute_result"
    }
   ],
   "source": [
    "# To fix GPU tensor with NumPy issue, first set it to cpu\n",
    "tensor_on_cpu = tensor_on_gpu.cpu().numpy()\n",
    "tensor_on_cpu"
   ],
   "metadata": {
    "collapsed": false,
    "ExecuteTime": {
     "end_time": "2023-12-23T02:34:27.398537700Z",
     "start_time": "2023-12-23T02:34:27.274543200Z"
    }
   },
   "id": "4365d86d831a4373",
   "execution_count": 240
  },
  {
   "cell_type": "code",
   "outputs": [
    {
     "data": {
      "text/plain": "tensor([1, 2, 3], device='cuda:0')"
     },
     "execution_count": 241,
     "metadata": {},
     "output_type": "execute_result"
    }
   ],
   "source": [
    "tensor_on_gpu"
   ],
   "metadata": {
    "collapsed": false,
    "ExecuteTime": {
     "end_time": "2023-12-23T02:34:27.461538400Z",
     "start_time": "2023-12-23T02:34:27.327537300Z"
    }
   },
   "id": "fb309747f91205ab",
   "execution_count": 241
  },
  {
   "cell_type": "markdown",
   "source": [
    "### Exercises"
   ],
   "metadata": {
    "collapsed": false
   },
   "id": "4720da6910c87629"
  },
  {
   "cell_type": "code",
   "outputs": [
    {
     "data": {
      "text/plain": "tensor([[0.0756, 0.1966, 0.3164, 0.4017, 0.1186, 0.8274, 0.3821],\n        [0.6605, 0.8536, 0.5932, 0.6367, 0.9826, 0.2745, 0.6584],\n        [0.2775, 0.8573, 0.8993, 0.0390, 0.9268, 0.7388, 0.7179],\n        [0.7058, 0.9156, 0.4340, 0.0772, 0.3565, 0.1479, 0.5331],\n        [0.4066, 0.2318, 0.4545, 0.9737, 0.4606, 0.5159, 0.4220],\n        [0.5786, 0.9455, 0.8057, 0.6775, 0.6087, 0.6179, 0.6932],\n        [0.4354, 0.0353, 0.1908, 0.9268, 0.5299, 0.0950, 0.5789]])"
     },
     "execution_count": 242,
     "metadata": {},
     "output_type": "execute_result"
    }
   ],
   "source": [
    "# Create a random tensor with shape (7, 7)\n",
    "tensorA = torch.rand(7, 7)\n",
    "tensorA"
   ],
   "metadata": {
    "collapsed": false,
    "ExecuteTime": {
     "end_time": "2023-12-23T02:34:27.503537Z",
     "start_time": "2023-12-23T02:34:27.404538500Z"
    }
   },
   "id": "1e72b913df9dc9f6",
   "execution_count": 242
  },
  {
   "cell_type": "code",
   "outputs": [
    {
     "data": {
      "text/plain": "tensor([[0.9131, 0.0275, 0.1634, 0.3009, 0.5201, 0.3834, 0.4451]])"
     },
     "execution_count": 243,
     "metadata": {},
     "output_type": "execute_result"
    }
   ],
   "source": [
    "# Perform a matrix multiplication on the tensor from 2 with another random tensor with shape (1, 7)\n",
    "tensorB = torch.rand(1, 7)\n",
    "tensorB"
   ],
   "metadata": {
    "collapsed": false,
    "ExecuteTime": {
     "end_time": "2023-12-23T02:34:27.618537Z",
     "start_time": "2023-12-23T02:34:27.485541200Z"
    }
   },
   "id": "d44cc6987fd05313",
   "execution_count": 243
  },
  {
   "cell_type": "code",
   "outputs": [
    {
     "data": {
      "text/plain": "tensor([[0.7960],\n        [1.8244],\n        [1.5204],\n        [1.2432],\n        [1.3700],\n        [1.7518],\n        [1.2782]])"
     },
     "execution_count": 244,
     "metadata": {},
     "output_type": "execute_result"
    }
   ],
   "source": [
    "tensor_result = torch.mm(tensorA, tensorB.T)\n",
    "tensor_result"
   ],
   "metadata": {
    "collapsed": false,
    "ExecuteTime": {
     "end_time": "2023-12-23T02:34:27.688538400Z",
     "start_time": "2023-12-23T02:34:27.551537200Z"
    }
   },
   "id": "f23b79f923b3a3c9",
   "execution_count": 244
  },
  {
   "cell_type": "code",
   "outputs": [
    {
     "data": {
      "text/plain": "tensor([[1.5985],\n        [1.1173],\n        [1.2741],\n        [1.6838],\n        [0.8279],\n        [1.0347],\n        [1.2498]])"
     },
     "execution_count": 245,
     "metadata": {},
     "output_type": "execute_result"
    }
   ],
   "source": [
    "# Set the random seed to 0 and perform the same operations\n",
    "RANDOM_SEED = 0\n",
    "torch.manual_seed(RANDOM_SEED)\n",
    "tensorA = torch.rand(7, 7)\n",
    "\n",
    "torch.manual_seed(RANDOM_SEED)\n",
    "tensorB = torch.rand(1, 7)\n",
    "\n",
    "tensor_result = torch.mm(tensorA, tensorB.T)\n",
    "tensor_result"
   ],
   "metadata": {
    "collapsed": false,
    "ExecuteTime": {
     "end_time": "2023-12-23T02:34:27.737537300Z",
     "start_time": "2023-12-23T02:34:27.641544700Z"
    }
   },
   "id": "aca9a965ee7e0826",
   "execution_count": 245
  }
 ],
 "metadata": {
  "kernelspec": {
   "display_name": "Python 3 (ipykernel)",
   "language": "python",
   "name": "python3"
  },
  "language_info": {
   "codemirror_mode": {
    "name": "ipython",
    "version": 3
   },
   "file_extension": ".py",
   "mimetype": "text/x-python",
   "name": "python",
   "nbconvert_exporter": "python",
   "pygments_lexer": "ipython3",
   "version": "3.11.7"
  }
 },
 "nbformat": 4,
 "nbformat_minor": 5
}
