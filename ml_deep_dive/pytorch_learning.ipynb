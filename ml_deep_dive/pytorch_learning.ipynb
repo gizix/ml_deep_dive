{
 "cells": [
  {
   "cell_type": "code",
   "outputs": [
    {
     "name": "stdout",
     "output_type": "stream",
     "text": [
      "2.1.2+cu121\n"
     ]
    }
   ],
   "source": [
    "import torch\n",
    "import pandas as pd\n",
    "import numpy as np\n",
    "import matplotlib.pyplot as plt\n",
    "\n",
    "print(torch.__version__)"
   ],
   "metadata": {
    "collapsed": false,
    "ExecuteTime": {
     "end_time": "2023-12-22T18:12:43.868812Z",
     "start_time": "2023-12-22T18:12:39.335797100Z"
    }
   },
   "id": "ed45fab2b5f16f56",
   "execution_count": 1
  },
  {
   "cell_type": "markdown",
   "source": [
    "## Intro to Tensors\n",
    "\n",
    "### Creating Tensors\n",
    "\n",
    "PyTorch Tensors are created using 'torch.tensor()'"
   ],
   "metadata": {
    "collapsed": false
   },
   "id": "17eea15e6b3140d5"
  },
  {
   "cell_type": "code",
   "outputs": [
    {
     "data": {
      "text/plain": "tensor(7)"
     },
     "execution_count": 2,
     "metadata": {},
     "output_type": "execute_result"
    }
   ],
   "source": [
    "#scalar\n",
    "\n",
    "scalar = torch.tensor(7)\n",
    "scalar"
   ],
   "metadata": {
    "collapsed": false,
    "ExecuteTime": {
     "end_time": "2023-12-22T18:12:43.935363400Z",
     "start_time": "2023-12-22T18:12:43.867817400Z"
    }
   },
   "id": "7e9aeb5ec4c24688",
   "execution_count": 2
  },
  {
   "cell_type": "code",
   "outputs": [
    {
     "data": {
      "text/plain": "0"
     },
     "execution_count": 3,
     "metadata": {},
     "output_type": "execute_result"
    }
   ],
   "source": [
    "scalar.ndim"
   ],
   "metadata": {
    "collapsed": false,
    "ExecuteTime": {
     "end_time": "2023-12-22T18:12:43.960366300Z",
     "start_time": "2023-12-22T18:12:43.898366800Z"
    }
   },
   "id": "570d1a020897e1a5",
   "execution_count": 3
  },
  {
   "cell_type": "code",
   "outputs": [
    {
     "data": {
      "text/plain": "7"
     },
     "execution_count": 4,
     "metadata": {},
     "output_type": "execute_result"
    }
   ],
   "source": [
    "# Get tensor back as Python int\n",
    "scalar.item()"
   ],
   "metadata": {
    "collapsed": false,
    "ExecuteTime": {
     "end_time": "2023-12-22T18:12:44.059363700Z",
     "start_time": "2023-12-22T18:12:43.900368200Z"
    }
   },
   "id": "4ad54311347247f5",
   "execution_count": 4
  },
  {
   "cell_type": "code",
   "outputs": [
    {
     "data": {
      "text/plain": "tensor([7, 7])"
     },
     "execution_count": 5,
     "metadata": {},
     "output_type": "execute_result"
    }
   ],
   "source": [
    "# Vector\n",
    "vector = torch.tensor([7, 7])\n",
    "vector"
   ],
   "metadata": {
    "collapsed": false,
    "ExecuteTime": {
     "end_time": "2023-12-22T18:12:44.106362500Z",
     "start_time": "2023-12-22T18:12:43.957365100Z"
    }
   },
   "id": "988e7fdede82f582",
   "execution_count": 5
  },
  {
   "cell_type": "code",
   "outputs": [
    {
     "data": {
      "text/plain": "1"
     },
     "execution_count": 6,
     "metadata": {},
     "output_type": "execute_result"
    }
   ],
   "source": [
    "vector.ndim"
   ],
   "metadata": {
    "collapsed": false,
    "ExecuteTime": {
     "end_time": "2023-12-22T18:12:44.143364400Z",
     "start_time": "2023-12-22T18:12:43.963367300Z"
    }
   },
   "id": "326ed8e2610bb22a",
   "execution_count": 6
  },
  {
   "cell_type": "code",
   "outputs": [
    {
     "data": {
      "text/plain": "torch.Size([2])"
     },
     "execution_count": 7,
     "metadata": {},
     "output_type": "execute_result"
    }
   ],
   "source": [
    "vector.shape"
   ],
   "metadata": {
    "collapsed": false,
    "ExecuteTime": {
     "end_time": "2023-12-22T18:12:44.184366600Z",
     "start_time": "2023-12-22T18:12:44.063366200Z"
    }
   },
   "id": "e435fecf3e688c9d",
   "execution_count": 7
  },
  {
   "cell_type": "code",
   "outputs": [
    {
     "data": {
      "text/plain": "tensor([[1, 2],\n        [3, 4]])"
     },
     "execution_count": 8,
     "metadata": {},
     "output_type": "execute_result"
    }
   ],
   "source": [
    "# Matrix\n",
    "MATRIX = torch.tensor([[1, 2], [3, 4]])\n",
    "MATRIX"
   ],
   "metadata": {
    "collapsed": false,
    "ExecuteTime": {
     "end_time": "2023-12-22T18:12:44.298362600Z",
     "start_time": "2023-12-22T18:12:44.069363800Z"
    }
   },
   "id": "41c7b12864779a7c",
   "execution_count": 8
  },
  {
   "cell_type": "code",
   "outputs": [
    {
     "data": {
      "text/plain": "2"
     },
     "execution_count": 9,
     "metadata": {},
     "output_type": "execute_result"
    }
   ],
   "source": [
    "MATRIX.ndim"
   ],
   "metadata": {
    "collapsed": false,
    "ExecuteTime": {
     "end_time": "2023-12-22T18:12:44.335364Z",
     "start_time": "2023-12-22T18:12:44.171364Z"
    }
   },
   "id": "8c8cfbb85972d647",
   "execution_count": 9
  },
  {
   "cell_type": "code",
   "outputs": [
    {
     "data": {
      "text/plain": "tensor([3, 4])"
     },
     "execution_count": 10,
     "metadata": {},
     "output_type": "execute_result"
    }
   ],
   "source": [
    "MATRIX[1]"
   ],
   "metadata": {
    "collapsed": false,
    "ExecuteTime": {
     "end_time": "2023-12-22T18:12:44.444365Z",
     "start_time": "2023-12-22T18:12:44.179365Z"
    }
   },
   "id": "445edce5d42c5288",
   "execution_count": 10
  },
  {
   "cell_type": "code",
   "outputs": [
    {
     "data": {
      "text/plain": "torch.Size([2, 2])"
     },
     "execution_count": 11,
     "metadata": {},
     "output_type": "execute_result"
    }
   ],
   "source": [
    "MATRIX.shape"
   ],
   "metadata": {
    "collapsed": false,
    "ExecuteTime": {
     "end_time": "2023-12-22T18:12:44.469362900Z",
     "start_time": "2023-12-22T18:12:44.286373400Z"
    }
   },
   "id": "e11146ef9b31d16c",
   "execution_count": 11
  },
  {
   "cell_type": "code",
   "outputs": [
    {
     "data": {
      "text/plain": "tensor([[[1, 2, 3],\n         [2, 3, 4],\n         [5, 6, 7]]])"
     },
     "execution_count": 12,
     "metadata": {},
     "output_type": "execute_result"
    }
   ],
   "source": [
    "# Tensor\n",
    "TENSOR = torch.tensor([[[1, 2, 3], [2, 3, 4], [5, 6, 7]]])\n",
    "TENSOR"
   ],
   "metadata": {
    "collapsed": false,
    "ExecuteTime": {
     "end_time": "2023-12-22T18:12:44.606364100Z",
     "start_time": "2023-12-22T18:12:44.472362400Z"
    }
   },
   "id": "17b97ae759675d35",
   "execution_count": 12
  },
  {
   "cell_type": "code",
   "outputs": [
    {
     "data": {
      "text/plain": "3"
     },
     "execution_count": 13,
     "metadata": {},
     "output_type": "execute_result"
    }
   ],
   "source": [
    "TENSOR.ndim"
   ],
   "metadata": {
    "collapsed": false,
    "ExecuteTime": {
     "end_time": "2023-12-22T18:12:44.617364400Z",
     "start_time": "2023-12-22T18:12:44.479367900Z"
    }
   },
   "id": "a9cd7572ccf37404",
   "execution_count": 13
  },
  {
   "cell_type": "code",
   "outputs": [
    {
     "data": {
      "text/plain": "torch.Size([1, 3, 3])"
     },
     "execution_count": 14,
     "metadata": {},
     "output_type": "execute_result"
    }
   ],
   "source": [
    "TENSOR.shape"
   ],
   "metadata": {
    "collapsed": false,
    "ExecuteTime": {
     "end_time": "2023-12-22T18:12:44.745363Z",
     "start_time": "2023-12-22T18:12:44.597364Z"
    }
   },
   "id": "a783b2476dae9734",
   "execution_count": 14
  },
  {
   "cell_type": "code",
   "outputs": [
    {
     "data": {
      "text/plain": "tensor([[1, 2, 3],\n        [2, 3, 4],\n        [5, 6, 7]])"
     },
     "execution_count": 15,
     "metadata": {},
     "output_type": "execute_result"
    }
   ],
   "source": [
    "TENSOR[0]"
   ],
   "metadata": {
    "collapsed": false,
    "ExecuteTime": {
     "end_time": "2023-12-22T18:12:44.786254900Z",
     "start_time": "2023-12-22T18:12:44.601366800Z"
    }
   },
   "id": "75d2f071ed40645f",
   "execution_count": 15
  },
  {
   "cell_type": "markdown",
   "source": [
    "### Random Tensors\n",
    "\n",
    "Random tensors are important because the way many neural networks learn is that they start with tensors full of random numbers and then adjust those random numbers to better represent the data.\n",
    "\n",
    "Start with random numbers -> look at data -> update random numbers -> look at data -> update random numbers"
   ],
   "metadata": {
    "collapsed": false
   },
   "id": "c0aea40cbd9d0d02"
  },
  {
   "cell_type": "code",
   "outputs": [
    {
     "data": {
      "text/plain": "tensor([[0.0113, 0.0184, 0.6874, 0.5690],\n        [0.1826, 0.3769, 0.9529, 0.0730],\n        [0.4727, 0.2407, 0.3527, 0.6357]])"
     },
     "execution_count": 16,
     "metadata": {},
     "output_type": "execute_result"
    }
   ],
   "source": [
    "# Create a random tensor of size (3, 4)\n",
    "random_tensor = torch.rand(3, 4)\n",
    "random_tensor"
   ],
   "metadata": {
    "collapsed": false,
    "ExecuteTime": {
     "end_time": "2023-12-22T18:12:44.856258200Z",
     "start_time": "2023-12-22T18:12:44.655369500Z"
    }
   },
   "id": "64105faef08a3afa",
   "execution_count": 16
  },
  {
   "cell_type": "code",
   "outputs": [
    {
     "data": {
      "text/plain": "2"
     },
     "execution_count": 17,
     "metadata": {},
     "output_type": "execute_result"
    }
   ],
   "source": [
    "random_tensor.ndim"
   ],
   "metadata": {
    "collapsed": false,
    "ExecuteTime": {
     "end_time": "2023-12-22T18:12:44.880257700Z",
     "start_time": "2023-12-22T18:12:44.843257Z"
    }
   },
   "id": "fd225bbcf988c0f4",
   "execution_count": 17
  },
  {
   "cell_type": "code",
   "outputs": [
    {
     "data": {
      "text/plain": "torch.Size([3, 4])"
     },
     "execution_count": 18,
     "metadata": {},
     "output_type": "execute_result"
    }
   ],
   "source": [
    "random_tensor.shape"
   ],
   "metadata": {
    "collapsed": false,
    "ExecuteTime": {
     "end_time": "2023-12-22T18:12:44.988257600Z",
     "start_time": "2023-12-22T18:12:44.847258Z"
    }
   },
   "id": "9faa5f3e3af7ed55",
   "execution_count": 18
  },
  {
   "cell_type": "code",
   "outputs": [
    {
     "data": {
      "text/plain": "(torch.Size([3, 224, 224]), 3)"
     },
     "execution_count": 19,
     "metadata": {},
     "output_type": "execute_result"
    }
   ],
   "source": [
    "# Create a random tensor with similar shape to an image tensor\n",
    "random_image_size_tensor = torch.rand(size=(3, 224, 224)) # height, width, color channels (R, G, B)\n",
    "random_image_size_tensor.shape, random_image_size_tensor.ndim"
   ],
   "metadata": {
    "collapsed": false,
    "ExecuteTime": {
     "end_time": "2023-12-22T18:12:45.059256200Z",
     "start_time": "2023-12-22T18:12:44.951257500Z"
    }
   },
   "id": "81a2787d1c8c5302",
   "execution_count": 19
  },
  {
   "cell_type": "markdown",
   "source": [
    "### Zeroes and ones"
   ],
   "metadata": {
    "collapsed": false
   },
   "id": "cb2c0c6724e38e4a"
  },
  {
   "cell_type": "code",
   "outputs": [
    {
     "data": {
      "text/plain": "tensor([[0., 0., 0., 0.],\n        [0., 0., 0., 0.],\n        [0., 0., 0., 0.]])"
     },
     "execution_count": 20,
     "metadata": {},
     "output_type": "execute_result"
    }
   ],
   "source": [
    "# Create a tensor of all zeroes\n",
    "zeros = torch.zeros(size=(3, 4))\n",
    "zeros"
   ],
   "metadata": {
    "collapsed": false,
    "ExecuteTime": {
     "end_time": "2023-12-22T18:12:45.147255Z",
     "start_time": "2023-12-22T18:12:44.956258500Z"
    }
   },
   "id": "f4d30df42707a601",
   "execution_count": 20
  },
  {
   "cell_type": "code",
   "outputs": [
    {
     "data": {
      "text/plain": "tensor([[1., 1., 1., 1.],\n        [1., 1., 1., 1.],\n        [1., 1., 1., 1.]])"
     },
     "execution_count": 21,
     "metadata": {},
     "output_type": "execute_result"
    }
   ],
   "source": [
    "# Create a tensor of all ones\n",
    "ones = torch.ones(size=(3, 4))\n",
    "ones"
   ],
   "metadata": {
    "collapsed": false,
    "ExecuteTime": {
     "end_time": "2023-12-22T18:12:45.179258400Z",
     "start_time": "2023-12-22T18:12:45.052260600Z"
    }
   },
   "id": "d86c1947a8304944",
   "execution_count": 21
  },
  {
   "cell_type": "code",
   "outputs": [
    {
     "data": {
      "text/plain": "torch.float32"
     },
     "execution_count": 22,
     "metadata": {},
     "output_type": "execute_result"
    }
   ],
   "source": [
    "ones.dtype"
   ],
   "metadata": {
    "collapsed": false,
    "ExecuteTime": {
     "end_time": "2023-12-22T18:12:45.221262400Z",
     "start_time": "2023-12-22T18:12:45.056256400Z"
    }
   },
   "id": "7b5a336fcd02a50",
   "execution_count": 22
  },
  {
   "cell_type": "code",
   "outputs": [
    {
     "data": {
      "text/plain": "torch.float32"
     },
     "execution_count": 23,
     "metadata": {},
     "output_type": "execute_result"
    }
   ],
   "source": [
    "random_tensor.dtype"
   ],
   "metadata": {
    "collapsed": false,
    "ExecuteTime": {
     "end_time": "2023-12-22T18:12:45.332255300Z",
     "start_time": "2023-12-22T18:12:45.135256400Z"
    }
   },
   "id": "39dfa69b5eb63154",
   "execution_count": 23
  },
  {
   "cell_type": "markdown",
   "source": [
    "### Creating a Range of tensors and tensors-like"
   ],
   "metadata": {
    "collapsed": false
   },
   "id": "a2567bf99584d036"
  },
  {
   "cell_type": "code",
   "outputs": [
    {
     "data": {
      "text/plain": "tensor([ 1,  2,  3,  4,  5,  6,  7,  8,  9, 10])"
     },
     "execution_count": 24,
     "metadata": {},
     "output_type": "execute_result"
    }
   ],
   "source": [
    "# Use torch.arange()\n",
    "one_to_ten = torch.arange(start=1, end=11, step=1)\n",
    "one_to_ten"
   ],
   "metadata": {
    "collapsed": false,
    "ExecuteTime": {
     "end_time": "2023-12-22T18:12:45.396254800Z",
     "start_time": "2023-12-22T18:12:45.139260200Z"
    }
   },
   "id": "f9199257e76f3e5d",
   "execution_count": 24
  },
  {
   "cell_type": "code",
   "outputs": [
    {
     "data": {
      "text/plain": "tensor([0, 0, 0, 0, 0, 0, 0, 0, 0, 0])"
     },
     "execution_count": 25,
     "metadata": {},
     "output_type": "execute_result"
    }
   ],
   "source": [
    "# Creating tensors like\n",
    "ten_zeros = torch.zeros_like(input=one_to_ten)\n",
    "ten_zeros"
   ],
   "metadata": {
    "collapsed": false,
    "ExecuteTime": {
     "end_time": "2023-12-22T18:12:45.418256500Z",
     "start_time": "2023-12-22T18:12:45.251260200Z"
    }
   },
   "id": "bf6bcd4665404bf1",
   "execution_count": 25
  },
  {
   "cell_type": "markdown",
   "source": [
    "### Tensor datatypes\n",
    "\n",
    "**Note:** Tensor datatypes is on of the 3 big errors you'll run into with PyTorch & deep learning:\n",
    "1. Tensors not the right datatype\n",
    "2. Tensors not the right shape\n",
    "3. Tensors not on the right device"
   ],
   "metadata": {
    "collapsed": false
   },
   "id": "2b400fe495d1472"
  },
  {
   "cell_type": "code",
   "outputs": [
    {
     "data": {
      "text/plain": "tensor([3., 6., 9.])"
     },
     "execution_count": 26,
     "metadata": {},
     "output_type": "execute_result"
    }
   ],
   "source": [
    "# Float 32 tensor\n",
    "float_32_tensor = torch.tensor([3.0, 6.0, 9.0],\n",
    "                               dtype=None, # What datatype is the tensor (e.g. float32 or float16)\n",
    "                               device=None, # What device is your tensor on\n",
    "                               requires_grad=False) # Whether to track gradients with this tensor's operations\n",
    "float_32_tensor"
   ],
   "metadata": {
    "collapsed": false,
    "ExecuteTime": {
     "end_time": "2023-12-22T18:12:45.540255200Z",
     "start_time": "2023-12-22T18:12:45.252262500Z"
    }
   },
   "id": "489b5db5447f4ab4",
   "execution_count": 26
  },
  {
   "cell_type": "code",
   "outputs": [
    {
     "data": {
      "text/plain": "torch.float32"
     },
     "execution_count": 27,
     "metadata": {},
     "output_type": "execute_result"
    }
   ],
   "source": [
    "float_32_tensor.dtype"
   ],
   "metadata": {
    "collapsed": false,
    "ExecuteTime": {
     "end_time": "2023-12-22T18:12:45.584258100Z",
     "start_time": "2023-12-22T18:12:45.297265800Z"
    }
   },
   "id": "7917b04c7cad5333",
   "execution_count": 27
  },
  {
   "cell_type": "code",
   "outputs": [
    {
     "data": {
      "text/plain": "tensor([3., 6., 9.], dtype=torch.float16)"
     },
     "execution_count": 28,
     "metadata": {},
     "output_type": "execute_result"
    }
   ],
   "source": [
    "float_16_tensor = float_32_tensor.type(torch.float16)\n",
    "float_16_tensor"
   ],
   "metadata": {
    "collapsed": false,
    "ExecuteTime": {
     "end_time": "2023-12-22T18:12:45.604257200Z",
     "start_time": "2023-12-22T18:12:45.378267700Z"
    }
   },
   "id": "bc27c3359c846810",
   "execution_count": 28
  },
  {
   "cell_type": "code",
   "outputs": [
    {
     "data": {
      "text/plain": "tensor([ 9., 36., 81.])"
     },
     "execution_count": 29,
     "metadata": {},
     "output_type": "execute_result"
    }
   ],
   "source": [
    "float_16_tensor * float_32_tensor"
   ],
   "metadata": {
    "collapsed": false,
    "ExecuteTime": {
     "end_time": "2023-12-22T18:12:45.624256600Z",
     "start_time": "2023-12-22T18:12:45.437256600Z"
    }
   },
   "id": "25083b3402cb2d7e",
   "execution_count": 29
  },
  {
   "cell_type": "code",
   "outputs": [
    {
     "data": {
      "text/plain": "tensor([3, 6, 9], dtype=torch.int32)"
     },
     "execution_count": 30,
     "metadata": {},
     "output_type": "execute_result"
    }
   ],
   "source": [
    "int_32_tensor = torch.tensor([3, 6, 9], dtype=torch.int32)\n",
    "int_32_tensor"
   ],
   "metadata": {
    "collapsed": false,
    "ExecuteTime": {
     "end_time": "2023-12-22T18:12:45.710260100Z",
     "start_time": "2023-12-22T18:12:45.442257400Z"
    }
   },
   "id": "e2f625716584cbf8",
   "execution_count": 30
  },
  {
   "cell_type": "code",
   "outputs": [
    {
     "data": {
      "text/plain": "tensor([ 9., 36., 81.], dtype=torch.float16)"
     },
     "execution_count": 31,
     "metadata": {},
     "output_type": "execute_result"
    }
   ],
   "source": [
    "float_16_tensor * int_32_tensor"
   ],
   "metadata": {
    "collapsed": false,
    "ExecuteTime": {
     "end_time": "2023-12-22T18:12:45.786256300Z",
     "start_time": "2023-12-22T18:12:45.505257500Z"
    }
   },
   "id": "c92e99195b210cbc",
   "execution_count": 31
  },
  {
   "cell_type": "markdown",
   "source": [
    "### Getting tensor attributes\n",
    "\n",
    "1. Tensors not the right datatype - to get datatype from a tensor, use 'tensor.dtype'\n",
    "2. Tensors not the right shape - to get shape from a tensor, use 'tensor.shap'\n",
    "3. Tensors not on the right device - to get device from a tensor, use 'tensor.device'"
   ],
   "metadata": {
    "collapsed": false
   },
   "id": "747b3db7ad7d38f7"
  },
  {
   "cell_type": "code",
   "outputs": [
    {
     "data": {
      "text/plain": "tensor([[0.9395, 0.4583, 0.2008, 0.6574],\n        [0.0113, 0.9248, 0.7492, 0.6580],\n        [0.8643, 0.7672, 0.7147, 0.4665]])"
     },
     "execution_count": 32,
     "metadata": {},
     "output_type": "execute_result"
    }
   ],
   "source": [
    "# Create a tensor\n",
    "some_tensor = torch.rand(3, 4)\n",
    "some_tensor"
   ],
   "metadata": {
    "collapsed": false,
    "ExecuteTime": {
     "end_time": "2023-12-22T18:12:45.816261400Z",
     "start_time": "2023-12-22T18:12:45.646257700Z"
    }
   },
   "id": "fa4beef215fcf6d6",
   "execution_count": 32
  },
  {
   "cell_type": "code",
   "outputs": [
    {
     "name": "stdout",
     "output_type": "stream",
     "text": [
      "tensor([[0.9395, 0.4583, 0.2008, 0.6574],\n",
      "        [0.0113, 0.9248, 0.7492, 0.6580],\n",
      "        [0.8643, 0.7672, 0.7147, 0.4665]])\n",
      "Datatype of tensor: torch.float32\n",
      "Shape of tensor: torch.Size([3, 4])\n",
      "Size of tensor: torch.Size([3, 4])\n",
      "Device tensor is on: cpu\n"
     ]
    }
   ],
   "source": [
    "# Find out details about some tensor\n",
    "print(some_tensor)\n",
    "print(f\"Datatype of tensor: {some_tensor.dtype}\")\n",
    "print(f\"Shape of tensor: {some_tensor.shape}\")\n",
    "print(f\"Size of tensor: {some_tensor.size()}\") # Same as the shape, just another way it may show up\n",
    "print(f\"Device tensor is on: {some_tensor.device}\")"
   ],
   "metadata": {
    "collapsed": false,
    "ExecuteTime": {
     "end_time": "2023-12-22T18:12:45.951257200Z",
     "start_time": "2023-12-22T18:12:45.647259700Z"
    }
   },
   "id": "3d9d2e61580411dc",
   "execution_count": 33
  },
  {
   "cell_type": "markdown",
   "source": [
    "### Tensor operations\n",
    "\n",
    "Tensor operations include:\n",
    "* Addition\n",
    "* Subtraction\n",
    "* Multiplication (element-wise)\n",
    "* Division\n",
    "* Matrix multiplication"
   ],
   "metadata": {
    "collapsed": false
   },
   "id": "de71938cc4adc62b"
  },
  {
   "cell_type": "code",
   "outputs": [
    {
     "data": {
      "text/plain": "tensor([11, 12, 13])"
     },
     "execution_count": 34,
     "metadata": {},
     "output_type": "execute_result"
    }
   ],
   "source": [
    "# Create a tensor and add 10 to it\n",
    "tensor = torch.tensor([1, 2, 3])\n",
    "tensor = tensor + 10\n",
    "tensor"
   ],
   "metadata": {
    "collapsed": false,
    "ExecuteTime": {
     "end_time": "2023-12-22T18:12:45.977255800Z",
     "start_time": "2023-12-22T18:12:45.679261600Z"
    }
   },
   "id": "25030f74a5ad92",
   "execution_count": 34
  },
  {
   "cell_type": "code",
   "outputs": [
    {
     "data": {
      "text/plain": "tensor([1, 2, 3])"
     },
     "execution_count": 35,
     "metadata": {},
     "output_type": "execute_result"
    }
   ],
   "source": [
    "# Subtraction\n",
    "tensor = tensor - 10\n",
    "tensor"
   ],
   "metadata": {
    "collapsed": false,
    "ExecuteTime": {
     "end_time": "2023-12-22T18:12:45.985256200Z",
     "start_time": "2023-12-22T18:12:45.744256800Z"
    }
   },
   "id": "8d2dcf66c8586e60",
   "execution_count": 35
  },
  {
   "cell_type": "code",
   "outputs": [
    {
     "data": {
      "text/plain": "tensor([10, 20, 30])"
     },
     "execution_count": 36,
     "metadata": {},
     "output_type": "execute_result"
    }
   ],
   "source": [
    "# Multiplication\n",
    "tensor = tensor * 10\n",
    "tensor"
   ],
   "metadata": {
    "collapsed": false,
    "ExecuteTime": {
     "end_time": "2023-12-22T18:12:46.042257300Z",
     "start_time": "2023-12-22T18:12:45.748257900Z"
    }
   },
   "id": "4b25e72e1a9049fb",
   "execution_count": 36
  },
  {
   "cell_type": "code",
   "outputs": [
    {
     "data": {
      "text/plain": "tensor([1., 2., 3.])"
     },
     "execution_count": 37,
     "metadata": {},
     "output_type": "execute_result"
    }
   ],
   "source": [
    "# Division\n",
    "tensor = tensor / 10\n",
    "tensor"
   ],
   "metadata": {
    "collapsed": false,
    "ExecuteTime": {
     "end_time": "2023-12-22T18:12:46.083256100Z",
     "start_time": "2023-12-22T18:12:45.856257900Z"
    }
   },
   "id": "b1d4af3136a79070",
   "execution_count": 37
  },
  {
   "cell_type": "code",
   "outputs": [
    {
     "data": {
      "text/plain": "tensor([10., 20., 30.])"
     },
     "execution_count": 38,
     "metadata": {},
     "output_type": "execute_result"
    }
   ],
   "source": [
    "# Built-ins\n",
    "tensor = tensor.mul(10)\n",
    "tensor"
   ],
   "metadata": {
    "collapsed": false,
    "ExecuteTime": {
     "end_time": "2023-12-22T18:12:46.199255200Z",
     "start_time": "2023-12-22T18:12:45.865262400Z"
    }
   },
   "id": "e295a78c566adfb5",
   "execution_count": 38
  },
  {
   "cell_type": "code",
   "outputs": [
    {
     "data": {
      "text/plain": "tensor([1., 2., 3.])"
     },
     "execution_count": 39,
     "metadata": {},
     "output_type": "execute_result"
    }
   ],
   "source": [
    "tensor = tensor.div(10)\n",
    "tensor"
   ],
   "metadata": {
    "collapsed": false,
    "ExecuteTime": {
     "end_time": "2023-12-22T18:12:46.267256900Z",
     "start_time": "2023-12-22T18:12:45.968258800Z"
    }
   },
   "id": "838f028835b68ffb",
   "execution_count": 39
  },
  {
   "cell_type": "code",
   "outputs": [
    {
     "data": {
      "text/plain": "tensor([1.0000e+00, 1.0240e+03, 5.9049e+04])"
     },
     "execution_count": 40,
     "metadata": {},
     "output_type": "execute_result"
    }
   ],
   "source": [
    "tensor = tensor.pow(10)\n",
    "tensor"
   ],
   "metadata": {
    "collapsed": false,
    "ExecuteTime": {
     "end_time": "2023-12-22T18:12:46.313256400Z",
     "start_time": "2023-12-22T18:12:45.973257300Z"
    }
   },
   "id": "48c71412f24ae9c6",
   "execution_count": 40
  },
  {
   "cell_type": "code",
   "outputs": [],
   "source": [
    "tensor = torch.tensor([1, 2, 3])"
   ],
   "metadata": {
    "collapsed": false,
    "ExecuteTime": {
     "end_time": "2023-12-22T18:12:46.354258400Z",
     "start_time": "2023-12-22T18:12:46.037256900Z"
    }
   },
   "id": "437890fcbd82faaa",
   "execution_count": 41
  },
  {
   "cell_type": "markdown",
   "source": [
    "### Matrix Multiplication\n",
    "\n",
    "Two main ways of performing multiplication in neural networks and deep learning:\n",
    "\n",
    "1. Element-wise multiplication\n",
    "2. Matrix multiplication (dot product)\n",
    "\n",
    "There are two main rules that performing matrix multiplication needs to satisfy:\n",
    "1. The **inner dimensions** must match:\n",
    "* `(3, 2) @ (3, 2)` won't work\n",
    "* `(2, 3) @ (3, 2)` will work\n",
    "* `(3, 2) @ (2, 3)` will work\n",
    "2. The resulting matrix has the shape of the outer dimensions:\n",
    "* `(2, 3) @ (3, 2)` -> (2, 2)\n",
    "* `(3, 2) @ (2, 3)` -> (3, 3)"
   ],
   "metadata": {
    "collapsed": false
   },
   "id": "721d688ba1d99020"
  },
  {
   "cell_type": "code",
   "outputs": [
    {
     "name": "stdout",
     "output_type": "stream",
     "text": [
      "tensor([1, 2, 3]) * tensor([1, 2, 3])\n",
      "Equals: tensor([1, 4, 9])\n"
     ]
    }
   ],
   "source": [
    "# Element-wise multiplication\n",
    "print(tensor, \"*\", tensor)\n",
    "print(f\"Equals: {tensor * tensor}\")"
   ],
   "metadata": {
    "collapsed": false,
    "ExecuteTime": {
     "end_time": "2023-12-22T18:12:46.450257600Z",
     "start_time": "2023-12-22T18:12:46.120264900Z"
    }
   },
   "id": "3669895bcca5fc3a",
   "execution_count": 42
  },
  {
   "cell_type": "code",
   "outputs": [
    {
     "data": {
      "text/plain": "tensor(14)"
     },
     "execution_count": 43,
     "metadata": {},
     "output_type": "execute_result"
    }
   ],
   "source": [
    "# Matrix multiplication\n",
    "torch.matmul(tensor, tensor)"
   ],
   "metadata": {
    "collapsed": false,
    "ExecuteTime": {
     "end_time": "2023-12-22T18:12:46.499256400Z",
     "start_time": "2023-12-22T18:12:46.190262200Z"
    }
   },
   "id": "ec452e2351634944",
   "execution_count": 43
  },
  {
   "cell_type": "code",
   "outputs": [
    {
     "data": {
      "text/plain": "14"
     },
     "execution_count": 44,
     "metadata": {},
     "output_type": "execute_result"
    }
   ],
   "source": [
    "# Matrix multiplication by hand\n",
    "1*1 + 2*2 + 3*3"
   ],
   "metadata": {
    "collapsed": false,
    "ExecuteTime": {
     "end_time": "2023-12-22T18:12:46.547266600Z",
     "start_time": "2023-12-22T18:12:46.227260400Z"
    }
   },
   "id": "160bb7e800727bdc",
   "execution_count": 44
  },
  {
   "cell_type": "code",
   "outputs": [
    {
     "name": "stdout",
     "output_type": "stream",
     "text": [
      "tensor(14)\n",
      "CPU times: user 693 µs, sys: 202 µs, total: 895 µs\n",
      "Wall time: 652 µs\n"
     ]
    }
   ],
   "source": [
    "%%time\n",
    "value = 0\n",
    "for i in range(len(tensor)):\n",
    "    value += tensor[i] * tensor[i]\n",
    "print(value)"
   ],
   "metadata": {
    "collapsed": false,
    "ExecuteTime": {
     "end_time": "2023-12-22T18:12:46.590260300Z",
     "start_time": "2023-12-22T18:12:46.277265Z"
    }
   },
   "id": "36bd973879677be4",
   "execution_count": 45
  },
  {
   "cell_type": "code",
   "outputs": [
    {
     "name": "stdout",
     "output_type": "stream",
     "text": [
      "CPU times: user 135 µs, sys: 39 µs, total: 174 µs\n",
      "Wall time: 139 µs\n"
     ]
    },
    {
     "data": {
      "text/plain": "tensor(14)"
     },
     "execution_count": 46,
     "metadata": {},
     "output_type": "execute_result"
    }
   ],
   "source": [
    "%%time\n",
    "torch.matmul(tensor, tensor)"
   ],
   "metadata": {
    "collapsed": false,
    "ExecuteTime": {
     "end_time": "2023-12-22T18:12:46.694770600Z",
     "start_time": "2023-12-22T18:12:46.323258400Z"
    }
   },
   "id": "56e32a64d6ff8ffa",
   "execution_count": 46
  },
  {
   "cell_type": "code",
   "outputs": [
    {
     "data": {
      "text/plain": "(tensor([[1, 2, 3],\n         [4, 5, 6]]),\n tensor([[ 7,  8],\n         [ 9, 10],\n         [11, 12]]))"
     },
     "execution_count": 47,
     "metadata": {},
     "output_type": "execute_result"
    }
   ],
   "source": [
    "matrix1 = torch.tensor([[1, 2, 3],\n",
    "                        [4, 5, 6]])\n",
    "matrix2 = torch.tensor([[7, 8],\n",
    "                        [9, 10],\n",
    "                        [11, 12]])\n",
    "matrix1, matrix2"
   ],
   "metadata": {
    "collapsed": false,
    "ExecuteTime": {
     "end_time": "2023-12-22T18:12:46.709768200Z",
     "start_time": "2023-12-22T18:12:46.362262600Z"
    }
   },
   "id": "f42c5eb530d6b972",
   "execution_count": 47
  },
  {
   "cell_type": "code",
   "outputs": [
    {
     "data": {
      "text/plain": "tensor([[ 58,  64],\n        [139, 154]])"
     },
     "execution_count": 48,
     "metadata": {},
     "output_type": "execute_result"
    }
   ],
   "source": [
    "torch.matmul(matrix1, matrix2)"
   ],
   "metadata": {
    "collapsed": false,
    "ExecuteTime": {
     "end_time": "2023-12-22T18:12:46.878766200Z",
     "start_time": "2023-12-22T18:12:46.368258900Z"
    }
   },
   "id": "60a54bbd737157ff",
   "execution_count": 48
  },
  {
   "cell_type": "code",
   "outputs": [
    {
     "ename": "RuntimeError",
     "evalue": "mat1 and mat2 shapes cannot be multiplied (3x2 and 3x2)",
     "output_type": "error",
     "traceback": [
      "\u001B[0;31m---------------------------------------------------------------------------\u001B[0m",
      "\u001B[0;31mRuntimeError\u001B[0m                              Traceback (most recent call last)",
      "Cell \u001B[0;32mIn[49], line 2\u001B[0m\n\u001B[1;32m      1\u001B[0m \u001B[38;5;66;03m# `(3, 2) @ (3, 2)` won't work\u001B[39;00m\n\u001B[0;32m----> 2\u001B[0m \u001B[43mtorch\u001B[49m\u001B[38;5;241;43m.\u001B[39;49m\u001B[43mmatmul\u001B[49m\u001B[43m(\u001B[49m\u001B[43mtorch\u001B[49m\u001B[38;5;241;43m.\u001B[39;49m\u001B[43mrand\u001B[49m\u001B[43m(\u001B[49m\u001B[38;5;241;43m3\u001B[39;49m\u001B[43m,\u001B[49m\u001B[43m \u001B[49m\u001B[38;5;241;43m2\u001B[39;49m\u001B[43m)\u001B[49m\u001B[43m,\u001B[49m\u001B[43m \u001B[49m\u001B[43mtorch\u001B[49m\u001B[38;5;241;43m.\u001B[39;49m\u001B[43mrand\u001B[49m\u001B[43m(\u001B[49m\u001B[38;5;241;43m3\u001B[39;49m\u001B[43m,\u001B[49m\u001B[43m \u001B[49m\u001B[38;5;241;43m2\u001B[39;49m\u001B[43m)\u001B[49m\u001B[43m)\u001B[49m\n",
      "\u001B[0;31mRuntimeError\u001B[0m: mat1 and mat2 shapes cannot be multiplied (3x2 and 3x2)"
     ]
    }
   ],
   "source": [
    "# `(3, 2) @ (3, 2)` won't work\n",
    "torch.matmul(torch.rand(3, 2), torch.rand(3, 2))"
   ],
   "metadata": {
    "collapsed": false,
    "ExecuteTime": {
     "end_time": "2023-12-22T18:12:46.987768900Z",
     "start_time": "2023-12-22T18:12:46.472260500Z"
    }
   },
   "id": "a19937bcb8519c6f",
   "execution_count": 49
  },
  {
   "cell_type": "code",
   "outputs": [],
   "source": [
    "# `(2, 3) @ (3, 2)` will work\n",
    "torch.matmul(torch.rand(2, 3), torch.rand(3, 2))"
   ],
   "metadata": {
    "collapsed": false,
    "ExecuteTime": {
     "start_time": "2023-12-22T18:12:46.691771Z"
    }
   },
   "id": "4d1abf629bc3c89c",
   "execution_count": null
  },
  {
   "cell_type": "code",
   "outputs": [],
   "source": [
    "# `(3, 2) @ (2, 3)` will work\n",
    "torch.matmul(torch.rand(3, 2), torch.rand(2, 3))"
   ],
   "metadata": {
    "collapsed": false,
    "ExecuteTime": {
     "start_time": "2023-12-22T18:12:46.693772300Z"
    }
   },
   "id": "7e1ad2d9963fd6df",
   "execution_count": null
  },
  {
   "cell_type": "markdown",
   "source": [
    "### One of the most common errors in deep learning: shape errors"
   ],
   "metadata": {
    "collapsed": false
   },
   "id": "f0c81ed8d28c74a7"
  },
  {
   "cell_type": "code",
   "outputs": [],
   "source": [],
   "metadata": {
    "collapsed": false,
    "ExecuteTime": {
     "start_time": "2023-12-22T18:12:46.695770600Z"
    }
   },
   "id": "a8f3782b9fdbe146"
  }
 ],
 "metadata": {
  "kernelspec": {
   "display_name": "Python 3 (ipykernel)",
   "language": "python",
   "name": "python3"
  },
  "language_info": {
   "codemirror_mode": {
    "name": "ipython",
    "version": 3
   },
   "file_extension": ".py",
   "mimetype": "text/x-python",
   "name": "python",
   "nbconvert_exporter": "python",
   "pygments_lexer": "ipython3",
   "version": "3.11.7"
  }
 },
 "nbformat": 4,
 "nbformat_minor": 5
}
