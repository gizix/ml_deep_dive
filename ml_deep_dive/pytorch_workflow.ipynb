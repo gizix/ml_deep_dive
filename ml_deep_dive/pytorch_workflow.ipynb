{
 "cells": [
  {
   "cell_type": "markdown",
   "source": [
    "# PyTorch Workflow\n",
    "\n",
    "1. Get data ready (turn into tensors)\n",
    "2. Build or pick a pretrained model to suit the problem\n",
    "    1. Pick a loss function & optimizer\n",
    "    2. Build a training loop\n",
    "3. Fit the model to the data and make a prediction\n",
    "4. Evaluate the model\n",
    "5. Improve through experimentation\n",
    "6. Save and reload the trained model "
   ],
   "metadata": {
    "collapsed": false
   },
   "id": "ae6bccd3fca45808"
  },
  {
   "cell_type": "code",
   "outputs": [],
   "source": [
    "import torch\n",
    "from torch import nn  # nn contains all of PyTorch's building blocks for neural networks\n",
    "import matplotlib.pyplot as plt\n",
    "import numpy as np"
   ],
   "metadata": {
    "collapsed": false,
    "ExecuteTime": {
     "end_time": "2023-12-23T02:34:11.726118600Z",
     "start_time": "2023-12-23T02:34:11.639116800Z"
    }
   },
   "id": "4b21c5891b12cdaa",
   "execution_count": 95
  },
  {
   "cell_type": "markdown",
   "source": [
    "## 1. Data - Preparing and Loading\n",
    "\n",
    "Data can be almost anything in machine learning.\n",
    "\n",
    "* Excel spreadsheet\n",
    "* Images\n",
    "* Videos\n",
    "* Audio\n",
    "* DNA\n",
    "* Text\n",
    "\n",
    "Machine Learning can be split into 2 parts:\n",
    "1. Get data into a numerical representation.\n",
    "2. Build a model to learn patterns in that representation."
   ],
   "metadata": {
    "collapsed": false
   },
   "id": "dcbd4e50be314ca4"
  },
  {
   "cell_type": "code",
   "outputs": [
    {
     "data": {
      "text/plain": "(tensor([[0.0000],\n         [0.0200],\n         [0.0400],\n         [0.0600],\n         [0.0800],\n         [0.1000],\n         [0.1200],\n         [0.1400],\n         [0.1600],\n         [0.1800]]),\n tensor([[0.3000],\n         [0.3140],\n         [0.3280],\n         [0.3420],\n         [0.3560],\n         [0.3700],\n         [0.3840],\n         [0.3980],\n         [0.4120],\n         [0.4260]]))"
     },
     "execution_count": 96,
     "metadata": {},
     "output_type": "execute_result"
    }
   ],
   "source": [
    "# Create known data using linear regression formula (Y = a + bX)\n",
    "# Known parameters\n",
    "weight = 0.7\n",
    "bias = 0.3\n",
    "\n",
    "start = 0\n",
    "end = 1\n",
    "step = 0.02\n",
    "X = torch.arange(start, end, step).unsqueeze(dim=1)\n",
    "y = weight * X + bias\n",
    "\n",
    "X[:10], y[:10]"
   ],
   "metadata": {
    "collapsed": false,
    "ExecuteTime": {
     "end_time": "2023-12-23T02:34:11.754118100Z",
     "start_time": "2023-12-23T02:34:11.731116500Z"
    }
   },
   "id": "dd38c304803b77be",
   "execution_count": 96
  },
  {
   "cell_type": "code",
   "outputs": [
    {
     "data": {
      "text/plain": "(50, 50)"
     },
     "execution_count": 97,
     "metadata": {},
     "output_type": "execute_result"
    }
   ],
   "source": [
    "len(X), len(y)"
   ],
   "metadata": {
    "collapsed": false,
    "ExecuteTime": {
     "end_time": "2023-12-23T02:34:11.813118600Z",
     "start_time": "2023-12-23T02:34:11.739124200Z"
    }
   },
   "id": "790e231f55adc1c5",
   "execution_count": 97
  },
  {
   "cell_type": "markdown",
   "source": [
    "### Splitting data into training and test sets\n"
   ],
   "metadata": {
    "collapsed": false
   },
   "id": "e46ec6320433d79c"
  },
  {
   "cell_type": "code",
   "outputs": [
    {
     "data": {
      "text/plain": "(40, 40, 10, 10)"
     },
     "execution_count": 98,
     "metadata": {},
     "output_type": "execute_result"
    }
   ],
   "source": [
    "# Create a train/test split\n",
    "train_split = int(0.8 * len(X))\n",
    "X_train, y_train = X[:train_split], y[:train_split]\n",
    "X_test, y_test = X[train_split:], y[train_split:]\n",
    "\n",
    "len(X_train), len(y_train), len(X_test), len(y_test)"
   ],
   "metadata": {
    "collapsed": false,
    "ExecuteTime": {
     "end_time": "2023-12-23T02:34:11.879123500Z",
     "start_time": "2023-12-23T02:34:11.800116700Z"
    }
   },
   "id": "291df6c08ab80c6f",
   "execution_count": 98
  },
  {
   "cell_type": "markdown",
   "source": [
    "Visualize Data"
   ],
   "metadata": {
    "collapsed": false
   },
   "id": "cb55c5a3a70a65b7"
  },
  {
   "cell_type": "code",
   "outputs": [],
   "source": [
    "def plot_predictions(train_data=X_train, \n",
    "                     train_labels=y_train, \n",
    "                     test_data=X_test, \n",
    "                     test_labels=y_test,\n",
    "                     predictions=None):\n",
    "    \"\"\"Plots training data, test data and compares predictions\"\"\"\n",
    "    plt.figure(figsize=(10, 7))\n",
    "    \n",
    "    # Plot training data in blue\n",
    "    plt.scatter(train_data, train_labels, c=\"b\", s=4, label=\"Training data\")\n",
    "    \n",
    "    # Plot test data in green\n",
    "    plt.scatter(test_data, test_labels, c=\"g\", s=4, label=\"Testing data\")\n",
    "    \n",
    "    # Are there predictions?\n",
    "    if predictions is not None:\n",
    "        # Plot the predictions if they exist\n",
    "        plt.scatter(test_data, predictions, c=\"r\", s=4, label=\"Predictions\")\n",
    "        \n",
    "    # Show the legend\n",
    "    plt.legend(prop={\"size\": 14})"
   ],
   "metadata": {
    "collapsed": false,
    "ExecuteTime": {
     "end_time": "2023-12-23T02:34:11.951633100Z",
     "start_time": "2023-12-23T02:34:11.833130900Z"
    }
   },
   "id": "10e105faa308b1d9",
   "execution_count": 99
  },
  {
   "cell_type": "code",
   "outputs": [
    {
     "data": {
      "text/plain": "<Figure size 1000x700 with 1 Axes>",
      "image/png": "[encoded data removed]"
     },
     "metadata": {},
     "output_type": "display_data"
    }
   ],
   "source": [
    "plot_predictions()"
   ],
   "metadata": {
    "collapsed": false,
    "ExecuteTime": {
     "end_time": "2023-12-23T02:34:12.152666400Z",
     "start_time": "2023-12-23T02:34:11.858117700Z"
    }
   },
   "id": "e4b57bc9710ba781",
   "execution_count": 100
  },
  {
   "cell_type": "markdown",
   "source": [
    "## 2. Build model\n",
    "\n",
    "What the model does:\n",
    "* Start with random values (weight & bias)\n",
    "* Look at training data and adjust the random values to better represent (or get closer to) the ideal values (the weight and bias used to create the data)\n",
    "\n",
    "It achieves this through:\n",
    "* Gradient descent algorithm\n",
    "* Backpropagation algorithm"
   ],
   "metadata": {
    "collapsed": false
   },
   "id": "5c0506df543a4533"
  },
  {
   "cell_type": "code",
   "outputs": [],
   "source": [
    "# Create linear regression model class\n",
    "class LinearRegressionModel(nn.Module): # <- almost everything in PyTorch inherits from nn.Module\n",
    "    def __init__(self):\n",
    "        super().__init__()\n",
    "        self.weights = nn.Parameter(torch.randn(1, requires_grad=True, dtype=torch.float))\n",
    "        self.bias = nn.Parameter(torch.randn(1, requires_grad=True, dtype=torch.float))\n",
    "        \n",
    "    def forward(self, x: torch.Tensor) -> torch.Tensor: # x is the input data\n",
    "        return self.weights * x + self.bias  # this is the linear regression formula"
   ],
   "metadata": {
    "collapsed": false,
    "ExecuteTime": {
     "end_time": "2023-12-23T02:34:12.156668200Z",
     "start_time": "2023-12-23T02:34:12.151669500Z"
    }
   },
   "id": "5ca6edbbf598423e",
   "execution_count": 101
  },
  {
   "cell_type": "markdown",
   "source": [
    "### PyTorch model building essentials\n",
    "\n",
    "* torch.nn - contains all building blocks for computational graphs (nn's are computational graphs)\n",
    "* torch.nn.Parameter - what parameters should our model try and learn, often a PyTorch layer from torch.nn will set these\n",
    "* torch.nn.Module - the base class for all neural network modules, overwrite forward() method when subclassing\n",
    "* torch.optim - this is where the optimizers are kept, they help with gradient descent\n",
    "* def forward() - defines what happens in the forward computation"
   ],
   "metadata": {
    "collapsed": false
   },
   "id": "9df41c744419774b"
  },
  {
   "cell_type": "markdown",
   "source": [
    "### Checking the contents of the model"
   ],
   "metadata": {
    "collapsed": false
   },
   "id": "426a742eef6459b6"
  },
  {
   "cell_type": "code",
   "outputs": [
    {
     "data": {
      "text/plain": "[Parameter containing:\n tensor([0.6339], requires_grad=True),\n Parameter containing:\n tensor([-0.3374], requires_grad=True)]"
     },
     "execution_count": 102,
     "metadata": {},
     "output_type": "execute_result"
    }
   ],
   "source": [
    "# Create a random seed\n",
    "RANDOM_SEED = 143\n",
    "torch.manual_seed(RANDOM_SEED)\n",
    "\n",
    "model_0 = LinearRegressionModel()\n",
    "\n",
    "# Check the parameters\n",
    "list(model_0.parameters())"
   ],
   "metadata": {
    "collapsed": false,
    "ExecuteTime": {
     "end_time": "2023-12-23T02:34:12.258663400Z",
     "start_time": "2023-12-23T02:34:12.182663500Z"
    }
   },
   "id": "f344bb2a0c59f559",
   "execution_count": 102
  },
  {
   "cell_type": "code",
   "outputs": [
    {
     "data": {
      "text/plain": "OrderedDict([('weights', tensor([0.6339])), ('bias', tensor([-0.3374]))])"
     },
     "execution_count": 103,
     "metadata": {},
     "output_type": "execute_result"
    }
   ],
   "source": [
    "# List named parameters\n",
    "model_0.state_dict()"
   ],
   "metadata": {
    "collapsed": false,
    "ExecuteTime": {
     "end_time": "2023-12-23T02:34:12.285663500Z",
     "start_time": "2023-12-23T02:34:12.186663600Z"
    }
   },
   "id": "67c87722d100afc",
   "execution_count": 103
  },
  {
   "cell_type": "markdown",
   "source": [
    "### Making prediction using `torch.inference_mode()`\n",
    "\n",
    "To check the model's predictive power, see how well it predicts 'y_test' based on 'X_test'"
   ],
   "metadata": {
    "collapsed": false
   },
   "id": "7ac8dd4274e8d710"
  },
  {
   "cell_type": "code",
   "outputs": [
    {
     "data": {
      "text/plain": "tensor([[0.1697],\n        [0.1824],\n        [0.1951],\n        [0.2078],\n        [0.2205],\n        [0.2331],\n        [0.2458],\n        [0.2585],\n        [0.2712],\n        [0.2839]])"
     },
     "execution_count": 104,
     "metadata": {},
     "output_type": "execute_result"
    }
   ],
   "source": [
    "# Make predictions with model\n",
    "with torch.inference_mode():\n",
    "    y_preds = model_0(X_test)\n",
    "    \n",
    "y_preds"
   ],
   "metadata": {
    "collapsed": false,
    "ExecuteTime": {
     "end_time": "2023-12-23T02:34:12.286665100Z",
     "start_time": "2023-12-23T02:34:12.246664300Z"
    }
   },
   "id": "709edfe50136e58a",
   "execution_count": 104
  },
  {
   "cell_type": "code",
   "outputs": [
    {
     "data": {
      "text/plain": "tensor([[0.8600],\n        [0.8740],\n        [0.8880],\n        [0.9020],\n        [0.9160],\n        [0.9300],\n        [0.9440],\n        [0.9580],\n        [0.9720],\n        [0.9860]])"
     },
     "execution_count": 105,
     "metadata": {},
     "output_type": "execute_result"
    }
   ],
   "source": [
    "y_test"
   ],
   "metadata": {
    "collapsed": false,
    "ExecuteTime": {
     "end_time": "2023-12-23T02:34:12.288663800Z",
     "start_time": "2023-12-23T02:34:12.249664200Z"
    }
   },
   "id": "611665ef7e2a5920",
   "execution_count": 105
  },
  {
   "cell_type": "code",
   "outputs": [
    {
     "data": {
      "text/plain": "<Figure size 1000x700 with 1 Axes>",
      "image/png": "[encoded data removed]"
     },
     "metadata": {},
     "output_type": "display_data"
    }
   ],
   "source": [
    "plot_predictions(predictions=y_preds)"
   ],
   "metadata": {
    "collapsed": false,
    "ExecuteTime": {
     "end_time": "2023-12-23T02:34:12.564760800Z",
     "start_time": "2023-12-23T02:34:12.314665600Z"
    }
   },
   "id": "9672081848fad910",
   "execution_count": 106
  },
  {
   "cell_type": "markdown",
   "source": [
    "## 3. Train model\n",
    "\n",
    "Move from some unknown parameters to some known parameters (from poor representation to better representation)\n",
    "\n",
    "One way to measure predictions is to use a loss function\n",
    "\n",
    "Things to train:\n",
    "**Loss Function**: A function to measure how wrong your model's predictions are to the ideal outputs, lower is better\n",
    "**Optimizer**: Takes into account the loss of a model and adjusts the model's parameters (i.e. weight & bias)\n",
    "\n",
    "for PyTorch:\n",
    "* A training loop\n",
    "* A testing loop"
   ],
   "metadata": {
    "collapsed": false
   },
   "id": "f544d0232178a1c0"
  },
  {
   "cell_type": "code",
   "outputs": [],
   "source": [
    "# Setup a loss function\n",
    "loss_fn = nn.L1Loss()\n",
    "\n",
    "# Setup an optimizer\n",
    "optimizer = torch.optim.SGD(params=model_0.parameters(), lr=0.01)"
   ],
   "metadata": {
    "collapsed": false,
    "ExecuteTime": {
     "end_time": "2023-12-23T02:34:12.574280200Z",
     "start_time": "2023-12-23T02:34:12.563763100Z"
    }
   },
   "id": "e79520de2e57f28b",
   "execution_count": 107
  },
  {
   "cell_type": "markdown",
   "source": [
    "### Building a training loop and testing loop in PyTorch\n",
    "  \n",
    "1. Loop through the data\n",
    "2. Forward pass (forward propagation) to make predictions on data\n",
    "3. Calculate the loss - compare forward pass predictions to ground truth labels\n",
    "4. Optimizer zero grad\n",
    "5. Loss backward - moves backwards through the network to calculate the gradients of each of the parameters with respect to loss (**backpropagation**)\n",
    "6. Optimizer step - use the optimizer to adjust the model's parameters to try and improve the loss (**gradient descent**)"
   ],
   "metadata": {
    "collapsed": false
   },
   "id": "16e9d15ad0091bb1"
  },
  {
   "cell_type": "code",
   "outputs": [
    {
     "name": "stdout",
     "output_type": "stream",
     "text": [
      "Epoch: 0 | Loss: 0.6631713509559631 | Test loss: 0.6827258467674255\n",
      "OrderedDict([('weights', tensor([0.6378])), ('bias', tensor([-0.3274]))])\n",
      "Epoch: 10 | Loss: 0.5479615330696106 | Test loss: 0.5480159521102905\n",
      "OrderedDict([('weights', tensor([0.6768])), ('bias', tensor([-0.2274]))])\n",
      "Epoch: 20 | Loss: 0.43275147676467896 | Test loss: 0.4133060574531555\n",
      "OrderedDict([('weights', tensor([0.7158])), ('bias', tensor([-0.1274]))])\n",
      "Epoch: 30 | Loss: 0.3175415098667145 | Test loss: 0.27859607338905334\n",
      "OrderedDict([('weights', tensor([0.7548])), ('bias', tensor([-0.0274]))])\n",
      "Epoch: 40 | Loss: 0.2023315131664276 | Test loss: 0.14388622343540192\n",
      "OrderedDict([('weights', tensor([0.7938])), ('bias', tensor([0.0726]))])\n",
      "Epoch: 50 | Loss: 0.08712156116962433 | Test loss: 0.009756917133927345\n",
      "OrderedDict([('weights', tensor([0.8328])), ('bias', tensor([0.1726]))])\n",
      "Epoch: 60 | Loss: 0.030713040381669998 | Test loss: 0.06093255802989006\n",
      "OrderedDict([('weights', tensor([0.8448])), ('bias', tensor([0.2321]))])\n",
      "Epoch: 70 | Loss: 0.02654551900923252 | Test loss: 0.06096513941884041\n",
      "OrderedDict([('weights', tensor([0.8302])), ('bias', tensor([0.2451]))])\n",
      "Epoch: 80 | Loss: 0.023100459948182106 | Test loss: 0.053379543125629425\n",
      "OrderedDict([('weights', tensor([0.8132])), ('bias', tensor([0.2526]))])\n",
      "Epoch: 90 | Loss: 0.01966547779738903 | Test loss: 0.04510701447725296\n",
      "OrderedDict([('weights', tensor([0.7961])), ('bias', tensor([0.2596]))])\n",
      "Epoch: 100 | Loss: 0.016226965934038162 | Test loss: 0.037521351128816605\n",
      "OrderedDict([('weights', tensor([0.7791])), ('bias', tensor([0.2671]))])\n",
      "Epoch: 110 | Loss: 0.012798520736396313 | Test loss: 0.029248815029859543\n",
      "OrderedDict([('weights', tensor([0.7620])), ('bias', tensor([0.2741]))])\n",
      "Epoch: 120 | Loss: 0.009361861273646355 | Test loss: 0.020976264029741287\n",
      "OrderedDict([('weights', tensor([0.7448])), ('bias', tensor([0.2811]))])\n",
      "Epoch: 130 | Loss: 0.005925030447542667 | Test loss: 0.01339063048362732\n",
      "OrderedDict([('weights', tensor([0.7279])), ('bias', tensor([0.2886]))])\n",
      "Epoch: 140 | Loss: 0.0024966374039649963 | Test loss: 0.005813890602439642\n",
      "OrderedDict([('weights', tensor([0.7109])), ('bias', tensor([0.2961]))])\n",
      "Epoch: 150 | Loss: 0.00702133122831583 | Test loss: 0.008873659186065197\n",
      "OrderedDict([('weights', tensor([0.7087])), ('bias', tensor([0.3011]))])\n",
      "Epoch: 160 | Loss: 0.00702133122831583 | Test loss: 0.008873659186065197\n",
      "OrderedDict([('weights', tensor([0.7087])), ('bias', tensor([0.3011]))])\n",
      "Epoch: 170 | Loss: 0.00702133122831583 | Test loss: 0.008873659186065197\n",
      "OrderedDict([('weights', tensor([0.7087])), ('bias', tensor([0.3011]))])\n",
      "Epoch: 180 | Loss: 0.00702133122831583 | Test loss: 0.008873659186065197\n",
      "OrderedDict([('weights', tensor([0.7087])), ('bias', tensor([0.3011]))])\n",
      "Epoch: 190 | Loss: 0.00702133122831583 | Test loss: 0.008873659186065197\n",
      "OrderedDict([('weights', tensor([0.7087])), ('bias', tensor([0.3011]))])\n"
     ]
    }
   ],
   "source": [
    "# An epoch is one loop through the data\n",
    "epochs = 200  # hyperparameter!\n",
    "\n",
    "# Track different values\n",
    "epoch_count = []\n",
    "loss_values = []\n",
    "test_loss_values = []\n",
    "\n",
    "# 1. Loop through the data\n",
    "for epoch in range(epochs):\n",
    "    # Set the model to training mode\n",
    "    model_0.train()  # train mode in PyTorch sets all parameters that require gradients to require gradients\n",
    "    \n",
    "    # 2. Forward pass\n",
    "    y_pred = model_0(X_train)\n",
    "    \n",
    "    # 3. Calculate the loss\n",
    "    loss = loss_fn(y_pred, y_train)\n",
    "    \n",
    "    # 4. Optimizer zero grad\n",
    "    optimizer.zero_grad()\n",
    "    \n",
    "    # 5. Backpropagation\n",
    "    loss.backward()\n",
    "        \n",
    "    # 6. Gradient descent\n",
    "    optimizer.step()  # by default, how the optimizer changes will accumulate through the loop\n",
    "    \n",
    "    ### Testing\n",
    "    # 1. Set to test (evaluation) mode\n",
    "    model_0.eval()  # turns off gradient tracking\n",
    "    with torch.inference_mode():\n",
    "        # 2. Do the forward pass\n",
    "        test_pred = model_0(X_test)\n",
    "        \n",
    "        # 3. Calculate the loss\n",
    "        test_loss = loss_fn(test_pred, y_test)\n",
    "    \n",
    "    if epoch % 10 == 0:\n",
    "        epoch_count.append(epoch)\n",
    "        loss_values.append(loss)\n",
    "        test_loss_values.append(test_loss)\n",
    "        print(f\"Epoch: {epoch} | Loss: {loss} | Test loss: {test_loss}\")\n",
    "        print(model_0.state_dict())"
   ],
   "metadata": {
    "collapsed": false,
    "ExecuteTime": {
     "end_time": "2023-12-23T02:34:12.696298200Z",
     "start_time": "2023-12-23T02:34:12.574280200Z"
    }
   },
   "id": "e5f9616bb220c142",
   "execution_count": 108
  },
  {
   "cell_type": "code",
   "outputs": [
    {
     "data": {
      "text/plain": "<matplotlib.legend.Legend at 0x7f0d40b40f50>"
     },
     "execution_count": 109,
     "metadata": {},
     "output_type": "execute_result"
    },
    {
     "data": {
      "text/plain": "<Figure size 640x480 with 1 Axes>",
      "image/png": "[encoded data removed]"
     },
     "metadata": {},
     "output_type": "display_data"
    }
   ],
   "source": [
    "# Plot the loss curves\n",
    "plt.plot(epoch_count, np.array(torch.tensor(loss_values).numpy()), label=\"Train Loss\")\n",
    "plt.plot(epoch_count, test_loss_values, label=\"Test Loss\")\n",
    "plt.title(\"Training and test loss curves\")\n",
    "plt.xlabel(\"Epochs\")\n",
    "plt.ylabel(\"Loss\")\n",
    "plt.legend()"
   ],
   "metadata": {
    "collapsed": false,
    "ExecuteTime": {
     "end_time": "2023-12-23T02:34:12.988387500Z",
     "start_time": "2023-12-23T02:34:12.700294600Z"
    }
   },
   "id": "62974243586978c8",
   "execution_count": 109
  },
  {
   "cell_type": "code",
   "outputs": [],
   "source": [
    "with torch.inference_mode():\n",
    "    y_preds_new = model_0(X_test)"
   ],
   "metadata": {
    "collapsed": false,
    "ExecuteTime": {
     "end_time": "2023-12-23T02:34:12.995409600Z",
     "start_time": "2023-12-23T02:34:12.987382300Z"
    }
   },
   "id": "45b084fe451ec84c",
   "execution_count": 110
  },
  {
   "cell_type": "code",
   "outputs": [
    {
     "data": {
      "text/plain": "<Figure size 1000x700 with 1 Axes>",
      "image/png": "[encoded data removed]"
     },
     "metadata": {},
     "output_type": "display_data"
    }
   ],
   "source": [
    "plot_predictions(predictions=y_preds_new)"
   ],
   "metadata": {
    "collapsed": false,
    "ExecuteTime": {
     "end_time": "2023-12-23T02:34:13.258440Z",
     "start_time": "2023-12-23T02:34:12.995409600Z"
    }
   },
   "id": "fec6206d6004666",
   "execution_count": 111
  },
  {
   "cell_type": "markdown",
   "source": [
    "## Saving a model in PyTorch\n"
   ],
   "metadata": {
    "collapsed": false
   },
   "id": "1319e8bd01971029"
  },
  {
   "cell_type": "code",
   "outputs": [],
   "source": [],
   "metadata": {
    "collapsed": false,
    "ExecuteTime": {
     "end_time": "2023-12-23T02:34:13.263440900Z",
     "start_time": "2023-12-23T02:34:13.260444100Z"
    }
   },
   "id": "ffc5203f5ecd2d32",
   "execution_count": 111
  }
 ],
 "metadata": {
  "kernelspec": {
   "display_name": "Python 3",
   "language": "python",
   "name": "python3"
  },
  "language_info": {
   "codemirror_mode": {
    "name": "ipython",
    "version": 2
   },
   "file_extension": ".py",
   "mimetype": "text/x-python",
   "name": "python",
   "nbconvert_exporter": "python",
   "pygments_lexer": "ipython2",
   "version": "2.7.6"
  }
 },
 "nbformat": 4,
 "nbformat_minor": 5
}
